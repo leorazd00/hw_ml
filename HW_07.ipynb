{
  "nbformat": 4,
  "nbformat_minor": 0,
  "metadata": {
    "kernelspec": {
      "display_name": "Python 3",
      "language": "python",
      "name": "python3"
    },
    "language_info": {
      "codemirror_mode": {
        "name": "ipython",
        "version": 3
      },
      "file_extension": ".py",
      "mimetype": "text/x-python",
      "name": "python",
      "nbconvert_exporter": "python",
      "pygments_lexer": "ipython3",
      "version": "3.9.2"
    },
    "colab": {
      "name": "Lecture07_HW.ipynb",
      "provenance": []
    }
  },
  "cells": [
    {
      "cell_type": "markdown",
      "metadata": {
        "id": "pJV1LSzaTAK4"
      },
      "source": [
        "# Задачи к Лекции 7\n",
        "\n",
        "Дана база данных рукописаного текста MNIST (только цифры). Данная база состоит из 70000 объектов, каждый из которых представлен изображением 28x28 пикселей и имеющих метку от 0 до 9."
      ]
    },
    {
      "cell_type": "markdown",
      "metadata": {
        "id": "-XlPGUunTALO"
      },
      "source": [
        "**Чтение данных**"
      ]
    },
    {
      "cell_type": "code",
      "metadata": {
        "id": "D1DC0ouJTALR"
      },
      "source": [
        "%matplotlib inline\n",
        "import zipfile\n",
        "import numpy as np\n",
        "import pandas as pd\n",
        "import seaborn as sns\n",
        "import matplotlib.pyplot as plt\n",
        "from sklearn.datasets import fetch_openml\n",
        "\n",
        "# https://www.openml.org/d/554\n",
        "# Это займет умеренно существенно время, пока данные скачаются\n",
        "X, y = fetch_openml('mnist_784', version=1, return_X_y=True)"
      ],
      "execution_count": 1,
      "outputs": []
    },
    {
      "cell_type": "code",
      "metadata": {
        "id": "ngg_CE2vTALT"
      },
      "source": [
        "# немного уменьшим данные (опционально)\n",
        "X = X[:10000]\n",
        "y = y[:10000]"
      ],
      "execution_count": 2,
      "outputs": []
    },
    {
      "cell_type": "markdown",
      "metadata": {
        "id": "OklLr_lZTALV"
      },
      "source": [
        "**Получение различной информации**"
      ]
    },
    {
      "cell_type": "code",
      "metadata": {
        "colab": {
          "base_uri": "https://localhost:8080/"
        },
        "id": "x4nd2d4YTALW",
        "outputId": "d0e3b502-ffeb-4320-e730-d30ddeb9c5fd"
      },
      "source": [
        "X.shape"
      ],
      "execution_count": 3,
      "outputs": [
        {
          "output_type": "execute_result",
          "data": {
            "text/plain": [
              "(10000, 784)"
            ]
          },
          "metadata": {
            "tags": []
          },
          "execution_count": 3
        }
      ]
    },
    {
      "cell_type": "code",
      "metadata": {
        "colab": {
          "base_uri": "https://localhost:8080/"
        },
        "id": "Arl3nyfHTALZ",
        "outputId": "46cf81b7-b5d1-4d70-db47-40af271dadfa"
      },
      "source": [
        "y.shape"
      ],
      "execution_count": 4,
      "outputs": [
        {
          "output_type": "execute_result",
          "data": {
            "text/plain": [
              "(10000,)"
            ]
          },
          "metadata": {
            "tags": []
          },
          "execution_count": 4
        }
      ]
    },
    {
      "cell_type": "code",
      "metadata": {
        "colab": {
          "base_uri": "https://localhost:8080/",
          "height": 35
        },
        "id": "jv6hLFlDTALa",
        "outputId": "3c1b1995-e2c0-4648-d3a9-de67cc26e154"
      },
      "source": [
        "y[0]"
      ],
      "execution_count": 5,
      "outputs": [
        {
          "output_type": "execute_result",
          "data": {
            "application/vnd.google.colaboratory.intrinsic+json": {
              "type": "string"
            },
            "text/plain": [
              "'5'"
            ]
          },
          "metadata": {
            "tags": []
          },
          "execution_count": 5
        }
      ]
    },
    {
      "cell_type": "code",
      "metadata": {
        "colab": {
          "base_uri": "https://localhost:8080/"
        },
        "id": "vy_c1LUgTALb",
        "outputId": "56d1827c-3f36-4c31-8fe2-a36195db1b18"
      },
      "source": [
        "# преобразуем метки в числа\n",
        "#list(map(int, y))\n",
        "Y = list(map(int, y))\n",
        "Y = np.array(Y)\n",
        "Y"
      ],
      "execution_count": 6,
      "outputs": [
        {
          "output_type": "execute_result",
          "data": {
            "text/plain": [
              "array([5, 0, 4, ..., 6, 9, 7])"
            ]
          },
          "metadata": {
            "tags": []
          },
          "execution_count": 6
        }
      ]
    },
    {
      "cell_type": "markdown",
      "metadata": {
        "id": "w1lPZEPPTALd"
      },
      "source": [
        "Проверим, что наглая обрезка данных выше не попортила баланс целевых исходов."
      ]
    },
    {
      "cell_type": "code",
      "metadata": {
        "colab": {
          "base_uri": "https://localhost:8080/"
        },
        "id": "N2QASCYUTALe",
        "outputId": "80706a55-6418-4da4-e419-cdad1d9e2afc"
      },
      "source": [
        "np.unique(Y, return_counts=True)"
      ],
      "execution_count": 7,
      "outputs": [
        {
          "output_type": "execute_result",
          "data": {
            "text/plain": [
              "(array([0, 1, 2, 3, 4, 5, 6, 7, 8, 9]),\n",
              " array([1001, 1127,  991, 1032,  980,  863, 1014, 1070,  944,  978]))"
            ]
          },
          "metadata": {
            "tags": []
          },
          "execution_count": 7
        }
      ]
    },
    {
      "cell_type": "markdown",
      "metadata": {
        "id": "PHwGXHmdTALf"
      },
      "source": [
        "Убедимся, что это и правда числа"
      ]
    },
    {
      "cell_type": "code",
      "metadata": {
        "colab": {
          "base_uri": "https://localhost:8080/",
          "height": 281
        },
        "id": "OxLtbz9dTALg",
        "outputId": "d7f1a8e4-d2d3-41d1-9a2f-db7e40113bfe"
      },
      "source": [
        "n = 2\n",
        "\n",
        "plt.imshow(X[n].reshape((28, 28)))\n",
        "plt.title(\"%d\" % Y[n])\n",
        "plt.show()"
      ],
      "execution_count": 8,
      "outputs": [
        {
          "output_type": "display_data",
          "data": {
            "image/png": "[encoded data removed]",
            "text/plain": [
              "<Figure size 432x288 with 1 Axes>"
            ]
          },
          "metadata": {
            "tags": [],
            "needs_background": "light"
          }
        }
      ]
    },
    {
      "cell_type": "markdown",
      "metadata": {
        "id": "o9HIic5aTALi"
      },
      "source": [
        "Попробуем наивное обучение с помощью kNN"
      ]
    },
    {
      "cell_type": "code",
      "metadata": {
        "id": "0T7o-mYqTALj"
      },
      "source": [
        "from sklearn.model_selection import train_test_split\n",
        "\n",
        "train, test, target_train, target_test = train_test_split(X, Y, shuffle=False)"
      ],
      "execution_count": 10,
      "outputs": []
    },
    {
      "cell_type": "code",
      "metadata": {
        "colab": {
          "base_uri": "https://localhost:8080/"
        },
        "id": "xDC1KVQbTALj",
        "outputId": "b1412699-ce4f-4581-e6cf-6b531711ba6d"
      },
      "source": [
        "train.shape, test.shape"
      ],
      "execution_count": 11,
      "outputs": [
        {
          "output_type": "execute_result",
          "data": {
            "text/plain": [
              "((7500, 784), (2500, 784))"
            ]
          },
          "metadata": {
            "tags": []
          },
          "execution_count": 11
        }
      ]
    },
    {
      "cell_type": "code",
      "metadata": {
        "id": "m4A2iQmoTALk",
        "outputId": "eebf3427-0926-4534-c36c-d50de91ec2f8"
      },
      "source": [
        "%%time \n",
        "\n",
        "from sklearn.neighbors import KNeighborsClassifier\n",
        "from sklearn.metrics import accuracy_score\n",
        "\n",
        "knn = KNeighborsClassifier(3)\n",
        "# Это будет довольно долго\n",
        "knn.fit(train, target_train)"
      ],
      "execution_count": null,
      "outputs": [
        {
          "output_type": "stream",
          "text": [
            "CPU times: user 972 ms, sys: 6.38 ms, total: 978 ms\n",
            "Wall time: 991 ms\n"
          ],
          "name": "stdout"
        }
      ]
    },
    {
      "cell_type": "code",
      "metadata": {
        "id": "f8HUFlkOTALl",
        "outputId": "559b6b98-6fa5-4069-c5f9-e0d832aa00f2"
      },
      "source": [
        "%%time \n",
        "\n",
        "# Это будет очень долго\n",
        "predict = knn.predict(test)"
      ],
      "execution_count": null,
      "outputs": [
        {
          "output_type": "stream",
          "text": [
            "CPU times: user 20.2 s, sys: 0 ns, total: 20.2 s\n",
            "Wall time: 20.3 s\n"
          ],
          "name": "stdout"
        }
      ]
    },
    {
      "cell_type": "code",
      "metadata": {
        "id": "lbY_MSJjTALm",
        "outputId": "c10b4f18-5f0a-4789-9711-63ad383cc094"
      },
      "source": [
        "accuracy_score(target_test, predict)"
      ],
      "execution_count": null,
      "outputs": [
        {
          "output_type": "execute_result",
          "data": {
            "text/plain": [
              "0.9336"
            ]
          },
          "metadata": {
            "tags": []
          },
          "execution_count": 16
        }
      ]
    },
    {
      "cell_type": "markdown",
      "metadata": {
        "id": "Bz5DCubfTALn"
      },
      "source": [
        "**1. Выбрать любой из классификаторов градиентного бустинга, представленного в лекции (SKLearn, XGBoost, LightGBM, CatBoost). Подобрать их гиперпараметры так, чтобы получить наименьшую ошибку доли правильных ответов (accuracy_score). Для этого необходимо самостоятельно изучить соответствующие классификаторы и их гиперпараметры.**"
      ]
    },
    {
      "cell_type": "code",
      "metadata": {
        "id": "eWvafNfqTALo"
      },
      "source": [
        "from lightgbm import LGBMClassifier\n",
        "from sklearn.metrics import accuracy_score\n",
        "from sklearn.model_selection import GridSearchCV"
      ],
      "execution_count": 16,
      "outputs": []
    },
    {
      "cell_type": "code",
      "metadata": {
        "colab": {
          "base_uri": "https://localhost:8080/"
        },
        "id": "GvM8TiaIVjHw",
        "outputId": "9bd4c5be-6de6-4ffc-8c56-06ceb0ef257d"
      },
      "source": [
        "lgb = LGBMClassifier()\n",
        "lgb.fit(train, target_train)\n",
        "\n",
        "pred = lgb.predict(test)\n",
        "accuracy_score(target_test, pred)"
      ],
      "execution_count": 14,
      "outputs": [
        {
          "output_type": "execute_result",
          "data": {
            "text/plain": [
              "0.9384"
            ]
          },
          "metadata": {
            "tags": []
          },
          "execution_count": 14
        }
      ]
    },
    {
      "cell_type": "code",
      "metadata": {
        "colab": {
          "base_uri": "https://localhost:8080/"
        },
        "id": "g38r3rSsWh-l",
        "outputId": "d1e95f5c-004f-44d2-ba73-e6538d099739"
      },
      "source": [
        "# GridSearch\n",
        "lgb_cv = LGBMClassifier()\n",
        "\n",
        "param = {'learning_rate': [0.005, 0.1],\n",
        "         'num_leaves': [30, 50],\n",
        "         'n_estimators': [100, 200]}\n",
        "\n",
        "clf_lgb = GridSearchCV(lgb_cv, param, scoring='accuracy',\n",
        "                       cv=5, verbose=3, n_jobs=-1)\n",
        "clf_lgb.fit(train, target_train)\n",
        "\n",
        "print('Best roc_auc: {:.4}, with best C: {}'.format(\n",
        "    clf_lgb.best_score_, clf_lgb.best_params_))"
      ],
      "execution_count": 18,
      "outputs": [
        {
          "output_type": "stream",
          "text": [
            "Fitting 5 folds for each of 8 candidates, totalling 40 fits\n"
          ],
          "name": "stdout"
        },
        {
          "output_type": "stream",
          "text": [
            "[Parallel(n_jobs=-1)]: Using backend LokyBackend with 2 concurrent workers.\n",
            "[Parallel(n_jobs=-1)]: Done  28 tasks      | elapsed: 42.0min\n",
            "[Parallel(n_jobs=-1)]: Done  40 out of  40 | elapsed: 63.3min finished\n"
          ],
          "name": "stderr"
        },
        {
          "output_type": "stream",
          "text": [
            "Best roc_auc: 0.9532, with best C: {'learning_rate': 0.1, 'n_estimators': 200, 'num_leaves': 30}\n"
          ],
          "name": "stdout"
        }
      ]
    },
    {
      "cell_type": "markdown",
      "metadata": {
        "id": "F411W36jTALo"
      },
      "source": [
        "**Комментарии:**"
      ]
    }
  ]
}