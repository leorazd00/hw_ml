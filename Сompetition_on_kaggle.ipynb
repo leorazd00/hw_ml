{
  "nbformat": 4,
  "nbformat_minor": 0,
  "metadata": {
    "colab": {
      "name": "Сompetition on kaggle.ipynb",
      "provenance": []
    },
    "kernelspec": {
      "name": "python3",
      "display_name": "Python 3"
    },
    "language_info": {
      "name": "python"
    }
  },
  "cells": [
    {
      "cell_type": "code",
      "metadata": {
        "id": "cG80ISqlgnaS"
      },
      "source": [
        "import numpy as np\n",
        "import pandas as pd\n",
        "from matplotlib import pyplot as plt\n",
        "import seaborn as sns\n",
        "from sklearn.linear_model import LogisticRegression\n",
        "from sklearn.preprocessing import StandardScaler, LabelEncoder\n",
        "from sklearn.ensemble import RandomForestClassifier, VotingClassifier \n",
        "from sklearn.model_selection import train_test_split, StratifiedShuffleSplit, GridSearchCV\n",
        "from sklearn.metrics import roc_auc_score\n",
        "from lightgbm import LGBMClassifier\n",
        "import warnings\n",
        "\n",
        "sns.set()\n",
        "warnings.filterwarnings(\"ignore\")"
      ],
      "execution_count": 15,
      "outputs": []
    },
    {
      "cell_type": "code",
      "metadata": {
        "colab": {
          "base_uri": "https://localhost:8080/",
          "height": 217
        },
        "id": "00PF09IchwSy",
        "outputId": "49bf2276-3002-4193-b3af-02dd3c0cde0c"
      },
      "source": [
        "train_df = pd.read_csv('/content/drive/MyDrive/ML/Higgs Boson ML/data/training.csv')\n",
        "test_df = pd.read_csv('/content/drive/MyDrive/ML/Higgs Boson ML/data/test.csv')\n",
        "\n",
        "train_df.head()"
      ],
      "execution_count": 22,
      "outputs": [
        {
          "output_type": "execute_result",
          "data": {
            "text/html": [
              "<div>\n",
              "<style scoped>\n",
              "    .dataframe tbody tr th:only-of-type {\n",
              "        vertical-align: middle;\n",
              "    }\n",
              "\n",
              "    .dataframe tbody tr th {\n",
              "        vertical-align: top;\n",
              "    }\n",
              "\n",
              "    .dataframe thead th {\n",
              "        text-align: right;\n",
              "    }\n",
              "</style>\n",
              "<table border=\"1\" class=\"dataframe\">\n",
              "  <thead>\n",
              "    <tr style=\"text-align: right;\">\n",
              "      <th></th>\n",
              "      <th>EventId</th>\n",
              "      <th>DER_mass_MMC</th>\n",
              "      <th>DER_mass_transverse_met_lep</th>\n",
              "      <th>DER_mass_vis</th>\n",
              "      <th>DER_pt_h</th>\n",
              "      <th>DER_deltaeta_jet_jet</th>\n",
              "      <th>DER_mass_jet_jet</th>\n",
              "      <th>DER_prodeta_jet_jet</th>\n",
              "      <th>DER_deltar_tau_lep</th>\n",
              "      <th>DER_pt_tot</th>\n",
              "      <th>DER_sum_pt</th>\n",
              "      <th>DER_pt_ratio_lep_tau</th>\n",
              "      <th>DER_met_phi_centrality</th>\n",
              "      <th>DER_lep_eta_centrality</th>\n",
              "      <th>PRI_tau_pt</th>\n",
              "      <th>PRI_tau_eta</th>\n",
              "      <th>PRI_tau_phi</th>\n",
              "      <th>PRI_lep_pt</th>\n",
              "      <th>PRI_lep_eta</th>\n",
              "      <th>PRI_lep_phi</th>\n",
              "      <th>PRI_met</th>\n",
              "      <th>PRI_met_phi</th>\n",
              "      <th>PRI_met_sumet</th>\n",
              "      <th>PRI_jet_num</th>\n",
              "      <th>PRI_jet_leading_pt</th>\n",
              "      <th>PRI_jet_leading_eta</th>\n",
              "      <th>PRI_jet_leading_phi</th>\n",
              "      <th>PRI_jet_subleading_pt</th>\n",
              "      <th>PRI_jet_subleading_eta</th>\n",
              "      <th>PRI_jet_subleading_phi</th>\n",
              "      <th>PRI_jet_all_pt</th>\n",
              "      <th>Weight</th>\n",
              "      <th>Label</th>\n",
              "    </tr>\n",
              "  </thead>\n",
              "  <tbody>\n",
              "    <tr>\n",
              "      <th>0</th>\n",
              "      <td>100000</td>\n",
              "      <td>138.470</td>\n",
              "      <td>51.655</td>\n",
              "      <td>97.827</td>\n",
              "      <td>27.980</td>\n",
              "      <td>0.91</td>\n",
              "      <td>124.711</td>\n",
              "      <td>2.666</td>\n",
              "      <td>3.064</td>\n",
              "      <td>41.928</td>\n",
              "      <td>197.760</td>\n",
              "      <td>1.582</td>\n",
              "      <td>1.396</td>\n",
              "      <td>0.2</td>\n",
              "      <td>32.638</td>\n",
              "      <td>1.017</td>\n",
              "      <td>0.381</td>\n",
              "      <td>51.626</td>\n",
              "      <td>2.273</td>\n",
              "      <td>-2.414</td>\n",
              "      <td>16.824</td>\n",
              "      <td>-0.277</td>\n",
              "      <td>258.733</td>\n",
              "      <td>2</td>\n",
              "      <td>67.435</td>\n",
              "      <td>2.150</td>\n",
              "      <td>0.444</td>\n",
              "      <td>46.062</td>\n",
              "      <td>1.24</td>\n",
              "      <td>-2.475</td>\n",
              "      <td>113.497</td>\n",
              "      <td>0.002653</td>\n",
              "      <td>s</td>\n",
              "    </tr>\n",
              "    <tr>\n",
              "      <th>1</th>\n",
              "      <td>100001</td>\n",
              "      <td>160.937</td>\n",
              "      <td>68.768</td>\n",
              "      <td>103.235</td>\n",
              "      <td>48.146</td>\n",
              "      <td>-999.00</td>\n",
              "      <td>-999.000</td>\n",
              "      <td>-999.000</td>\n",
              "      <td>3.473</td>\n",
              "      <td>2.078</td>\n",
              "      <td>125.157</td>\n",
              "      <td>0.879</td>\n",
              "      <td>1.414</td>\n",
              "      <td>-999.0</td>\n",
              "      <td>42.014</td>\n",
              "      <td>2.039</td>\n",
              "      <td>-3.011</td>\n",
              "      <td>36.918</td>\n",
              "      <td>0.501</td>\n",
              "      <td>0.103</td>\n",
              "      <td>44.704</td>\n",
              "      <td>-1.916</td>\n",
              "      <td>164.546</td>\n",
              "      <td>1</td>\n",
              "      <td>46.226</td>\n",
              "      <td>0.725</td>\n",
              "      <td>1.158</td>\n",
              "      <td>-999.000</td>\n",
              "      <td>-999.00</td>\n",
              "      <td>-999.000</td>\n",
              "      <td>46.226</td>\n",
              "      <td>2.233584</td>\n",
              "      <td>b</td>\n",
              "    </tr>\n",
              "    <tr>\n",
              "      <th>2</th>\n",
              "      <td>100002</td>\n",
              "      <td>-999.000</td>\n",
              "      <td>162.172</td>\n",
              "      <td>125.953</td>\n",
              "      <td>35.635</td>\n",
              "      <td>-999.00</td>\n",
              "      <td>-999.000</td>\n",
              "      <td>-999.000</td>\n",
              "      <td>3.148</td>\n",
              "      <td>9.336</td>\n",
              "      <td>197.814</td>\n",
              "      <td>3.776</td>\n",
              "      <td>1.414</td>\n",
              "      <td>-999.0</td>\n",
              "      <td>32.154</td>\n",
              "      <td>-0.705</td>\n",
              "      <td>-2.093</td>\n",
              "      <td>121.409</td>\n",
              "      <td>-0.953</td>\n",
              "      <td>1.052</td>\n",
              "      <td>54.283</td>\n",
              "      <td>-2.186</td>\n",
              "      <td>260.414</td>\n",
              "      <td>1</td>\n",
              "      <td>44.251</td>\n",
              "      <td>2.053</td>\n",
              "      <td>-2.028</td>\n",
              "      <td>-999.000</td>\n",
              "      <td>-999.00</td>\n",
              "      <td>-999.000</td>\n",
              "      <td>44.251</td>\n",
              "      <td>2.347389</td>\n",
              "      <td>b</td>\n",
              "    </tr>\n",
              "    <tr>\n",
              "      <th>3</th>\n",
              "      <td>100003</td>\n",
              "      <td>143.905</td>\n",
              "      <td>81.417</td>\n",
              "      <td>80.943</td>\n",
              "      <td>0.414</td>\n",
              "      <td>-999.00</td>\n",
              "      <td>-999.000</td>\n",
              "      <td>-999.000</td>\n",
              "      <td>3.310</td>\n",
              "      <td>0.414</td>\n",
              "      <td>75.968</td>\n",
              "      <td>2.354</td>\n",
              "      <td>-1.285</td>\n",
              "      <td>-999.0</td>\n",
              "      <td>22.647</td>\n",
              "      <td>-1.655</td>\n",
              "      <td>0.010</td>\n",
              "      <td>53.321</td>\n",
              "      <td>-0.522</td>\n",
              "      <td>-3.100</td>\n",
              "      <td>31.082</td>\n",
              "      <td>0.060</td>\n",
              "      <td>86.062</td>\n",
              "      <td>0</td>\n",
              "      <td>-999.000</td>\n",
              "      <td>-999.000</td>\n",
              "      <td>-999.000</td>\n",
              "      <td>-999.000</td>\n",
              "      <td>-999.00</td>\n",
              "      <td>-999.000</td>\n",
              "      <td>-0.000</td>\n",
              "      <td>5.446378</td>\n",
              "      <td>b</td>\n",
              "    </tr>\n",
              "    <tr>\n",
              "      <th>4</th>\n",
              "      <td>100004</td>\n",
              "      <td>175.864</td>\n",
              "      <td>16.915</td>\n",
              "      <td>134.805</td>\n",
              "      <td>16.405</td>\n",
              "      <td>-999.00</td>\n",
              "      <td>-999.000</td>\n",
              "      <td>-999.000</td>\n",
              "      <td>3.891</td>\n",
              "      <td>16.405</td>\n",
              "      <td>57.983</td>\n",
              "      <td>1.056</td>\n",
              "      <td>-1.385</td>\n",
              "      <td>-999.0</td>\n",
              "      <td>28.209</td>\n",
              "      <td>-2.197</td>\n",
              "      <td>-2.231</td>\n",
              "      <td>29.774</td>\n",
              "      <td>0.798</td>\n",
              "      <td>1.569</td>\n",
              "      <td>2.723</td>\n",
              "      <td>-0.871</td>\n",
              "      <td>53.131</td>\n",
              "      <td>0</td>\n",
              "      <td>-999.000</td>\n",
              "      <td>-999.000</td>\n",
              "      <td>-999.000</td>\n",
              "      <td>-999.000</td>\n",
              "      <td>-999.00</td>\n",
              "      <td>-999.000</td>\n",
              "      <td>0.000</td>\n",
              "      <td>6.245333</td>\n",
              "      <td>b</td>\n",
              "    </tr>\n",
              "  </tbody>\n",
              "</table>\n",
              "</div>"
            ],
            "text/plain": [
              "   EventId  DER_mass_MMC  ...    Weight  Label\n",
              "0   100000       138.470  ...  0.002653      s\n",
              "1   100001       160.937  ...  2.233584      b\n",
              "2   100002      -999.000  ...  2.347389      b\n",
              "3   100003       143.905  ...  5.446378      b\n",
              "4   100004       175.864  ...  6.245333      b\n",
              "\n",
              "[5 rows x 33 columns]"
            ]
          },
          "metadata": {
            "tags": []
          },
          "execution_count": 22
        }
      ]
    },
    {
      "cell_type": "markdown",
      "metadata": {
        "id": "dl5UAA0EidRi"
      },
      "source": [
        "### data analysis"
      ]
    },
    {
      "cell_type": "code",
      "metadata": {
        "colab": {
          "base_uri": "https://localhost:8080/",
          "height": 338
        },
        "id": "XhRBCKPahwXN",
        "outputId": "cc1d71db-9932-4a9a-ab13-ef9804143b70"
      },
      "source": [
        "# посмотрим на распределение классов\n",
        "plt.figure(figsize=(10,5))\n",
        "ax = sns.countplot(y='Label', data=train_df, alpha=0.8)\n",
        "total = train_df.shape[0]\n",
        "\n",
        "for p in ax.patches:\n",
        "    percentage = '{:.1f}%'.format(100 * p.get_width() / total)\n",
        "    x = p.get_x() + p.get_width()\n",
        "    y = p.get_y() + p.get_height() / 2\n",
        "    ax.annotate(percentage, (x, y))"
      ],
      "execution_count": 12,
      "outputs": [
        {
          "output_type": "display_data",
          "data": {
            "image/png": "[encoded data removed]",
            "text/plain": [
              "<Figure size 720x360 with 1 Axes>"
            ]
          },
          "metadata": {
            "tags": []
          }
        }
      ]
    },
    {
      "cell_type": "code",
      "metadata": {
        "colab": {
          "base_uri": "https://localhost:8080/"
        },
        "id": "CpJRTNddhwfC",
        "outputId": "4c73bfd2-9ce9-4b82-ad5f-0780455e7438"
      },
      "source": [
        "train_df.dtypes"
      ],
      "execution_count": 13,
      "outputs": [
        {
          "output_type": "execute_result",
          "data": {
            "text/plain": [
              "EventId                          int64\n",
              "DER_mass_MMC                   float64\n",
              "DER_mass_transverse_met_lep    float64\n",
              "DER_mass_vis                   float64\n",
              "DER_pt_h                       float64\n",
              "DER_deltaeta_jet_jet           float64\n",
              "DER_mass_jet_jet               float64\n",
              "DER_prodeta_jet_jet            float64\n",
              "DER_deltar_tau_lep             float64\n",
              "DER_pt_tot                     float64\n",
              "DER_sum_pt                     float64\n",
              "DER_pt_ratio_lep_tau           float64\n",
              "DER_met_phi_centrality         float64\n",
              "DER_lep_eta_centrality         float64\n",
              "PRI_tau_pt                     float64\n",
              "PRI_tau_eta                    float64\n",
              "PRI_tau_phi                    float64\n",
              "PRI_lep_pt                     float64\n",
              "PRI_lep_eta                    float64\n",
              "PRI_lep_phi                    float64\n",
              "PRI_met                        float64\n",
              "PRI_met_phi                    float64\n",
              "PRI_met_sumet                  float64\n",
              "PRI_jet_num                      int64\n",
              "PRI_jet_leading_pt             float64\n",
              "PRI_jet_leading_eta            float64\n",
              "PRI_jet_leading_phi            float64\n",
              "PRI_jet_subleading_pt          float64\n",
              "PRI_jet_subleading_eta         float64\n",
              "PRI_jet_subleading_phi         float64\n",
              "PRI_jet_all_pt                 float64\n",
              "Weight                         float64\n",
              "Label                           object\n",
              "dtype: object"
            ]
          },
          "metadata": {
            "tags": []
          },
          "execution_count": 13
        }
      ]
    },
    {
      "cell_type": "code",
      "metadata": {
        "colab": {
          "base_uri": "https://localhost:8080/"
        },
        "id": "dx_mqLNihwjG",
        "outputId": "5d8c1f4d-cc9d-4bf9-d492-c8c989525d9a"
      },
      "source": [
        "# пропусков нет\n",
        "train_df.isna().mean()"
      ],
      "execution_count": 17,
      "outputs": [
        {
          "output_type": "execute_result",
          "data": {
            "text/plain": [
              "EventId                        0.0\n",
              "DER_mass_MMC                   0.0\n",
              "DER_mass_transverse_met_lep    0.0\n",
              "DER_mass_vis                   0.0\n",
              "DER_pt_h                       0.0\n",
              "DER_deltaeta_jet_jet           0.0\n",
              "DER_mass_jet_jet               0.0\n",
              "DER_prodeta_jet_jet            0.0\n",
              "DER_deltar_tau_lep             0.0\n",
              "DER_pt_tot                     0.0\n",
              "DER_sum_pt                     0.0\n",
              "DER_pt_ratio_lep_tau           0.0\n",
              "DER_met_phi_centrality         0.0\n",
              "DER_lep_eta_centrality         0.0\n",
              "PRI_tau_pt                     0.0\n",
              "PRI_tau_eta                    0.0\n",
              "PRI_tau_phi                    0.0\n",
              "PRI_lep_pt                     0.0\n",
              "PRI_lep_eta                    0.0\n",
              "PRI_lep_phi                    0.0\n",
              "PRI_met                        0.0\n",
              "PRI_met_phi                    0.0\n",
              "PRI_met_sumet                  0.0\n",
              "PRI_jet_num                    0.0\n",
              "PRI_jet_leading_pt             0.0\n",
              "PRI_jet_leading_eta            0.0\n",
              "PRI_jet_leading_phi            0.0\n",
              "PRI_jet_subleading_pt          0.0\n",
              "PRI_jet_subleading_eta         0.0\n",
              "PRI_jet_subleading_phi         0.0\n",
              "PRI_jet_all_pt                 0.0\n",
              "Weight                         0.0\n",
              "Label                          0.0\n",
              "dtype: float64"
            ]
          },
          "metadata": {
            "tags": []
          },
          "execution_count": 17
        }
      ]
    },
    {
      "cell_type": "code",
      "metadata": {
        "colab": {
          "base_uri": "https://localhost:8080/",
          "height": 1000
        },
        "id": "sUqCr-R-hwmw",
        "outputId": "86824e37-02b5-409a-e287-050b7617a1ea"
      },
      "source": [
        "# есть много выбросов, но убирать их наверное не стоит\n",
        "fig, axes = plt.subplots(5, 6, figsize=(20,20))\n",
        "axes = axes.ravel()\n",
        "\n",
        "for i, col in enumerate(train_df.columns[1:-2]):\n",
        "    sns.boxplot(ax=axes[i], x=col, data=train_df)"
      ],
      "execution_count": 6,
      "outputs": [
        {
          "output_type": "display_data",
          "data": {
            "image/png": "[encoded data removed]",
            "text/plain": [
              "<Figure size 1440x1440 with 30 Axes>"
            ]
          },
          "metadata": {
            "tags": [],
            "needs_background": "light"
          }
        }
      ]
    },
    {
      "cell_type": "markdown",
      "metadata": {
        "id": "3M-7faIHnzNq"
      },
      "source": [
        "### Modeling"
      ]
    },
    {
      "cell_type": "code",
      "metadata": {
        "id": "J1sGCsrKl_Mh"
      },
      "source": [
        "enc = LabelEncoder()\n",
        "train_df['Label'] = enc.fit_transform(train_df['Label'])\n",
        "\n",
        "train_df.set_index(['EventId'], inplace=True)\n",
        "test_df.set_index(['EventId'], inplace=True)\n",
        "\n",
        "X_train, X_test, y_train, y_test = train_test_split(train_df, train_df['Label'], test_size=0.3, random_state=17)\n",
        "\n",
        "X_train = X_train.drop(['Weight', 'Label'], axis=1)\n",
        "X_test = X_test.drop(['Weight', 'Label'], axis=1)\n",
        "\n",
        "scaler = StandardScaler()\n",
        "scaler.fit(X_train.values.reshape(-1, 30))\n",
        "\n",
        "X_train_scaled = scaler.transform(X_train.values.reshape(-1, 30))\n",
        "X_test_scaled = scaler.transform(X_test.values.reshape(-1, 30))"
      ],
      "execution_count": 23,
      "outputs": []
    },
    {
      "cell_type": "markdown",
      "metadata": {
        "id": "Q-NO_Ajtrb23"
      },
      "source": [
        "#### LogisticRegression"
      ]
    },
    {
      "cell_type": "code",
      "metadata": {
        "id": "mkvdw4t_l_R9"
      },
      "source": [
        "lr = LogisticRegression()\n",
        "lr.fit(X_train_scaled, y_train)\n",
        "y_pred = lr.predict_proba(X_test_scaled)[:, 1]"
      ],
      "execution_count": 24,
      "outputs": []
    },
    {
      "cell_type": "code",
      "metadata": {
        "colab": {
          "base_uri": "https://localhost:8080/"
        },
        "id": "BzIn-SoPl_Wa",
        "outputId": "d694ebaf-367f-43a8-84c5-d58f9836cc0c"
      },
      "source": [
        "print('ROC-AUC:', roc_auc_score(y_test, y_pred))"
      ],
      "execution_count": 27,
      "outputs": [
        {
          "output_type": "stream",
          "text": [
            "ROC-AUC: 0.814608241732619\n"
          ],
          "name": "stdout"
        }
      ]
    },
    {
      "cell_type": "code",
      "metadata": {
        "colab": {
          "base_uri": "https://localhost:8080/",
          "height": 77
        },
        "id": "FLubibgahwzv",
        "outputId": "74bc36b8-a2bb-4664-c9d4-f764c69ff02b"
      },
      "source": [
        "df_report = pd.DataFrame(columns={'ROC-AUC'}, data=[0])\n",
        "df_report['ROC-AUC'] = roc_auc_score(y_test, y_pred)\n",
        "df_report.index = ['LogisticRegression']\n",
        "\n",
        "df_report"
      ],
      "execution_count": 45,
      "outputs": [
        {
          "output_type": "execute_result",
          "data": {
            "text/html": [
              "<div>\n",
              "<style scoped>\n",
              "    .dataframe tbody tr th:only-of-type {\n",
              "        vertical-align: middle;\n",
              "    }\n",
              "\n",
              "    .dataframe tbody tr th {\n",
              "        vertical-align: top;\n",
              "    }\n",
              "\n",
              "    .dataframe thead th {\n",
              "        text-align: right;\n",
              "    }\n",
              "</style>\n",
              "<table border=\"1\" class=\"dataframe\">\n",
              "  <thead>\n",
              "    <tr style=\"text-align: right;\">\n",
              "      <th></th>\n",
              "      <th>ROC-AUC</th>\n",
              "    </tr>\n",
              "  </thead>\n",
              "  <tbody>\n",
              "    <tr>\n",
              "      <th>LogisticRegression</th>\n",
              "      <td>0.814608</td>\n",
              "    </tr>\n",
              "  </tbody>\n",
              "</table>\n",
              "</div>"
            ],
            "text/plain": [
              "                     ROC-AUC\n",
              "LogisticRegression  0.814608"
            ]
          },
          "metadata": {
            "tags": []
          },
          "execution_count": 45
        }
      ]
    },
    {
      "cell_type": "code",
      "metadata": {
        "colab": {
          "base_uri": "https://localhost:8080/"
        },
        "id": "tfsw0dzIhw3M",
        "outputId": "1e64adee-c016-4dcd-9afd-94322b5440f4"
      },
      "source": [
        "# GridSearch\n",
        "\n",
        "lr_skf = LogisticRegression(class_weight='balanced')\n",
        "skf = StratifiedShuffleSplit(n_splits=5, random_state=17)\n",
        "\n",
        "param = {'C': np.linspace(0.001, 10, 10), 'penalty': ['l1', 'l2']}\n",
        "\n",
        "clf_lr = GridSearchCV(lr_skf, param, scoring='roc_auc', refit=True, cv=skf)\n",
        "clf_lr.fit(X_train_scaled, y_train)\n",
        "\n",
        "print('Best roc_auc: {:.4}, with best C: {}'.format(\n",
        "    clf_lr.best_score_, clf_lr.best_params_))"
      ],
      "execution_count": 36,
      "outputs": [
        {
          "output_type": "stream",
          "text": [
            "Best roc_auc: 0.8149, with best C: {'C': 3.334, 'penalty': 'l2'}\n"
          ],
          "name": "stdout"
        }
      ]
    },
    {
      "cell_type": "code",
      "metadata": {
        "id": "Foe1NBcstqcf"
      },
      "source": [
        "# функция для возвращения таблицы с метриками\n",
        "\n",
        "def get_scores(report_df, model, X_test, y_test, name):\n",
        "\n",
        "    report = pd.DataFrame(columns={'ROC-AUC'}, data=[0])\n",
        "    report['ROC-AUC'] = roc_auc_score(y_test, model.predict_proba(X_test)[:, 1])\n",
        "    report.index = [name]\n",
        "    report_df = report_df.append(report)\n",
        "\n",
        "    return report_df"
      ],
      "execution_count": 37,
      "outputs": []
    },
    {
      "cell_type": "code",
      "metadata": {
        "colab": {
          "base_uri": "https://localhost:8080/",
          "height": 107
        },
        "id": "ECxOYasKuvog",
        "outputId": "cfa43b68-5f7e-48dc-adfd-a20bd2a14420"
      },
      "source": [
        "df_report = get_scores(df_report, clf_lr, X_test_scaled,\n",
        "                       y_test, 'LogisticRegression_skf')\n",
        "df_report"
      ],
      "execution_count": 46,
      "outputs": [
        {
          "output_type": "execute_result",
          "data": {
            "text/html": [
              "<div>\n",
              "<style scoped>\n",
              "    .dataframe tbody tr th:only-of-type {\n",
              "        vertical-align: middle;\n",
              "    }\n",
              "\n",
              "    .dataframe tbody tr th {\n",
              "        vertical-align: top;\n",
              "    }\n",
              "\n",
              "    .dataframe thead th {\n",
              "        text-align: right;\n",
              "    }\n",
              "</style>\n",
              "<table border=\"1\" class=\"dataframe\">\n",
              "  <thead>\n",
              "    <tr style=\"text-align: right;\">\n",
              "      <th></th>\n",
              "      <th>ROC-AUC</th>\n",
              "    </tr>\n",
              "  </thead>\n",
              "  <tbody>\n",
              "    <tr>\n",
              "      <th>LogisticRegression</th>\n",
              "      <td>0.814608</td>\n",
              "    </tr>\n",
              "    <tr>\n",
              "      <th>LogisticRegression_skf</th>\n",
              "      <td>0.815319</td>\n",
              "    </tr>\n",
              "  </tbody>\n",
              "</table>\n",
              "</div>"
            ],
            "text/plain": [
              "                         ROC-AUC\n",
              "LogisticRegression      0.814608\n",
              "LogisticRegression_skf  0.815319"
            ]
          },
          "metadata": {
            "tags": []
          },
          "execution_count": 46
        }
      ]
    },
    {
      "cell_type": "markdown",
      "metadata": {
        "id": "t9OmNLNevLMQ"
      },
      "source": [
        "### RandomForest"
      ]
    },
    {
      "cell_type": "code",
      "metadata": {
        "colab": {
          "base_uri": "https://localhost:8080/",
          "height": 137
        },
        "id": "4ip92NVru9xv",
        "outputId": "11134d0b-adba-4627-d430-c4a1044ba391"
      },
      "source": [
        "rf = RandomForestClassifier()\n",
        "rf.fit(X_train_scaled, y_train)\n",
        "\n",
        "df_report = get_scores(df_report, rf, X_test_scaled, y_test, 'RandomForestClassifier')\n",
        "df_report"
      ],
      "execution_count": 47,
      "outputs": [
        {
          "output_type": "execute_result",
          "data": {
            "text/html": [
              "<div>\n",
              "<style scoped>\n",
              "    .dataframe tbody tr th:only-of-type {\n",
              "        vertical-align: middle;\n",
              "    }\n",
              "\n",
              "    .dataframe tbody tr th {\n",
              "        vertical-align: top;\n",
              "    }\n",
              "\n",
              "    .dataframe thead th {\n",
              "        text-align: right;\n",
              "    }\n",
              "</style>\n",
              "<table border=\"1\" class=\"dataframe\">\n",
              "  <thead>\n",
              "    <tr style=\"text-align: right;\">\n",
              "      <th></th>\n",
              "      <th>ROC-AUC</th>\n",
              "    </tr>\n",
              "  </thead>\n",
              "  <tbody>\n",
              "    <tr>\n",
              "      <th>LogisticRegression</th>\n",
              "      <td>0.814608</td>\n",
              "    </tr>\n",
              "    <tr>\n",
              "      <th>LogisticRegression_skf</th>\n",
              "      <td>0.815319</td>\n",
              "    </tr>\n",
              "    <tr>\n",
              "      <th>RandomForestClassifier</th>\n",
              "      <td>0.903539</td>\n",
              "    </tr>\n",
              "  </tbody>\n",
              "</table>\n",
              "</div>"
            ],
            "text/plain": [
              "                         ROC-AUC\n",
              "LogisticRegression      0.814608\n",
              "LogisticRegression_skf  0.815319\n",
              "RandomForestClassifier  0.903539"
            ]
          },
          "metadata": {
            "tags": []
          },
          "execution_count": 47
        }
      ]
    },
    {
      "cell_type": "code",
      "metadata": {
        "colab": {
          "base_uri": "https://localhost:8080/"
        },
        "id": "49ni6vGJvNsJ",
        "outputId": "7e6e2869-570e-49db-914f-ccef1edf0031"
      },
      "source": [
        "# GridSearch\n",
        "rf_skf = RandomForestClassifier(class_weight='balanced_subsample')\n",
        "skf = StratifiedShuffleSplit(n_splits=5, random_state=17)\n",
        "\n",
        "param = {'bootstrap': [True],\n",
        "         'max_depth': [10, 30],\n",
        "         'n_estimators': [100, 200]}\n",
        "\n",
        "clf_rf = GridSearchCV(\n",
        "    rf_skf, param, scoring='roc_auc', refit=True, cv=skf, verbose=3, n_jobs=-1)\n",
        "clf_rf.fit(X_train_scaled, y_train)\n",
        "\n",
        "print('Best roc_auc: {:.4}, with best C: {}'.format(\n",
        "    clf_rf.best_score_, clf_rf.best_params_))"
      ],
      "execution_count": 42,
      "outputs": [
        {
          "output_type": "stream",
          "text": [
            "Fitting 5 folds for each of 4 candidates, totalling 20 fits\n"
          ],
          "name": "stdout"
        },
        {
          "output_type": "stream",
          "text": [
            "[Parallel(n_jobs=-1)]: Using backend LokyBackend with 2 concurrent workers.\n",
            "[Parallel(n_jobs=-1)]: Done  20 out of  20 | elapsed: 33.3min finished\n"
          ],
          "name": "stderr"
        },
        {
          "output_type": "stream",
          "text": [
            "Best roc_auc: 0.9052, with best C: {'bootstrap': True, 'max_depth': 30, 'n_estimators': 200}\n"
          ],
          "name": "stdout"
        }
      ]
    },
    {
      "cell_type": "code",
      "metadata": {
        "colab": {
          "base_uri": "https://localhost:8080/",
          "height": 167
        },
        "id": "C8XSft9YvNxp",
        "outputId": "b799d630-9716-4ce9-aa30-8889c0219fc6"
      },
      "source": [
        "df_report = get_scores(df_report, clf_rf, X_test_scaled, y_test,\n",
        "                       'RandomForestClassifier_skf')\n",
        "df_report"
      ],
      "execution_count": 48,
      "outputs": [
        {
          "output_type": "execute_result",
          "data": {
            "text/html": [
              "<div>\n",
              "<style scoped>\n",
              "    .dataframe tbody tr th:only-of-type {\n",
              "        vertical-align: middle;\n",
              "    }\n",
              "\n",
              "    .dataframe tbody tr th {\n",
              "        vertical-align: top;\n",
              "    }\n",
              "\n",
              "    .dataframe thead th {\n",
              "        text-align: right;\n",
              "    }\n",
              "</style>\n",
              "<table border=\"1\" class=\"dataframe\">\n",
              "  <thead>\n",
              "    <tr style=\"text-align: right;\">\n",
              "      <th></th>\n",
              "      <th>ROC-AUC</th>\n",
              "    </tr>\n",
              "  </thead>\n",
              "  <tbody>\n",
              "    <tr>\n",
              "      <th>LogisticRegression</th>\n",
              "      <td>0.814608</td>\n",
              "    </tr>\n",
              "    <tr>\n",
              "      <th>LogisticRegression_skf</th>\n",
              "      <td>0.815319</td>\n",
              "    </tr>\n",
              "    <tr>\n",
              "      <th>RandomForestClassifier</th>\n",
              "      <td>0.903539</td>\n",
              "    </tr>\n",
              "    <tr>\n",
              "      <th>RandomForestClassifier_skf</th>\n",
              "      <td>0.905212</td>\n",
              "    </tr>\n",
              "  </tbody>\n",
              "</table>\n",
              "</div>"
            ],
            "text/plain": [
              "                             ROC-AUC\n",
              "LogisticRegression          0.814608\n",
              "LogisticRegression_skf      0.815319\n",
              "RandomForestClassifier      0.903539\n",
              "RandomForestClassifier_skf  0.905212"
            ]
          },
          "metadata": {
            "tags": []
          },
          "execution_count": 48
        }
      ]
    },
    {
      "cell_type": "markdown",
      "metadata": {
        "id": "YYEBePAO5z-U"
      },
      "source": [
        "### LightGBM"
      ]
    },
    {
      "cell_type": "code",
      "metadata": {
        "id": "me2alYkivN3E"
      },
      "source": [
        "lgb = LGBMClassifier()\n",
        "lgb.fit(X_train_scaled, y_train)\n",
        "\n",
        "df_report = get_scores(df_report, lgb, X_test_scaled,\n",
        "                       y_test, 'LGBMClassifier')"
      ],
      "execution_count": 49,
      "outputs": []
    },
    {
      "cell_type": "code",
      "metadata": {
        "colab": {
          "base_uri": "https://localhost:8080/",
          "height": 197
        },
        "id": "itcc7uCk54E5",
        "outputId": "4ad90df7-a2dc-4820-abf1-0c2f42a946d3"
      },
      "source": [
        "df_report"
      ],
      "execution_count": 50,
      "outputs": [
        {
          "output_type": "execute_result",
          "data": {
            "text/html": [
              "<div>\n",
              "<style scoped>\n",
              "    .dataframe tbody tr th:only-of-type {\n",
              "        vertical-align: middle;\n",
              "    }\n",
              "\n",
              "    .dataframe tbody tr th {\n",
              "        vertical-align: top;\n",
              "    }\n",
              "\n",
              "    .dataframe thead th {\n",
              "        text-align: right;\n",
              "    }\n",
              "</style>\n",
              "<table border=\"1\" class=\"dataframe\">\n",
              "  <thead>\n",
              "    <tr style=\"text-align: right;\">\n",
              "      <th></th>\n",
              "      <th>ROC-AUC</th>\n",
              "    </tr>\n",
              "  </thead>\n",
              "  <tbody>\n",
              "    <tr>\n",
              "      <th>LogisticRegression</th>\n",
              "      <td>0.814608</td>\n",
              "    </tr>\n",
              "    <tr>\n",
              "      <th>LogisticRegression_skf</th>\n",
              "      <td>0.815319</td>\n",
              "    </tr>\n",
              "    <tr>\n",
              "      <th>RandomForestClassifier</th>\n",
              "      <td>0.903539</td>\n",
              "    </tr>\n",
              "    <tr>\n",
              "      <th>RandomForestClassifier_skf</th>\n",
              "      <td>0.905212</td>\n",
              "    </tr>\n",
              "    <tr>\n",
              "      <th>LGBMClassifier</th>\n",
              "      <td>0.909294</td>\n",
              "    </tr>\n",
              "  </tbody>\n",
              "</table>\n",
              "</div>"
            ],
            "text/plain": [
              "                             ROC-AUC\n",
              "LogisticRegression          0.814608\n",
              "LogisticRegression_skf      0.815319\n",
              "RandomForestClassifier      0.903539\n",
              "RandomForestClassifier_skf  0.905212\n",
              "LGBMClassifier              0.909294"
            ]
          },
          "metadata": {
            "tags": []
          },
          "execution_count": 50
        }
      ]
    },
    {
      "cell_type": "code",
      "metadata": {
        "colab": {
          "base_uri": "https://localhost:8080/"
        },
        "id": "FUvs1WuA54JK",
        "outputId": "77e352d9-7a2d-462a-cc7b-814617c0d7b3"
      },
      "source": [
        "# GridSearch\n",
        "lgb_skf = LGBMClassifier(class_weight='balanced')\n",
        "skf = StratifiedShuffleSplit(n_splits=5, random_state=17)\n",
        "\n",
        "param = {'learning_rate': [0.005, 0.1],\n",
        "         'num_leaves': [30, 50],\n",
        "         'n_estimators': [100, 200]}\n",
        "\n",
        "clf_lgb = GridSearchCV(lgb_skf, param, scoring='roc_auc',\n",
        "                       cv=skf, verbose=3, n_jobs=-1)\n",
        "clf_lgb.fit(X_train_scaled, y_train)\n",
        "\n",
        "print('Best roc_auc: {:.4}, with best C: {}'.format(\n",
        "    clf_lgb.best_score_, clf_lgb.best_params_))"
      ],
      "execution_count": 51,
      "outputs": [
        {
          "output_type": "stream",
          "text": [
            "Fitting 5 folds for each of 8 candidates, totalling 40 fits\n"
          ],
          "name": "stdout"
        },
        {
          "output_type": "stream",
          "text": [
            "[Parallel(n_jobs=-1)]: Using backend LokyBackend with 2 concurrent workers.\n",
            "[Parallel(n_jobs=-1)]: Done  28 tasks      | elapsed:  3.4min\n",
            "[Parallel(n_jobs=-1)]: Done  40 out of  40 | elapsed:  4.8min finished\n"
          ],
          "name": "stderr"
        },
        {
          "output_type": "stream",
          "text": [
            "Best roc_auc: 0.911, with best C: {'learning_rate': 0.1, 'n_estimators': 200, 'num_leaves': 50}\n"
          ],
          "name": "stdout"
        }
      ]
    },
    {
      "cell_type": "code",
      "metadata": {
        "colab": {
          "base_uri": "https://localhost:8080/",
          "height": 227
        },
        "id": "AxE6ELgN54O3",
        "outputId": "042d1e88-7bb0-4056-a1af-49ac71b43eee"
      },
      "source": [
        "df_report = get_scores(df_report, clf_lgb, X_test_scaled, y_test,\n",
        "                       'LGBMClassifier_skf')\n",
        "df_report"
      ],
      "execution_count": 52,
      "outputs": [
        {
          "output_type": "execute_result",
          "data": {
            "text/html": [
              "<div>\n",
              "<style scoped>\n",
              "    .dataframe tbody tr th:only-of-type {\n",
              "        vertical-align: middle;\n",
              "    }\n",
              "\n",
              "    .dataframe tbody tr th {\n",
              "        vertical-align: top;\n",
              "    }\n",
              "\n",
              "    .dataframe thead th {\n",
              "        text-align: right;\n",
              "    }\n",
              "</style>\n",
              "<table border=\"1\" class=\"dataframe\">\n",
              "  <thead>\n",
              "    <tr style=\"text-align: right;\">\n",
              "      <th></th>\n",
              "      <th>ROC-AUC</th>\n",
              "    </tr>\n",
              "  </thead>\n",
              "  <tbody>\n",
              "    <tr>\n",
              "      <th>LogisticRegression</th>\n",
              "      <td>0.814608</td>\n",
              "    </tr>\n",
              "    <tr>\n",
              "      <th>LogisticRegression_skf</th>\n",
              "      <td>0.815319</td>\n",
              "    </tr>\n",
              "    <tr>\n",
              "      <th>RandomForestClassifier</th>\n",
              "      <td>0.903539</td>\n",
              "    </tr>\n",
              "    <tr>\n",
              "      <th>RandomForestClassifier_skf</th>\n",
              "      <td>0.905212</td>\n",
              "    </tr>\n",
              "    <tr>\n",
              "      <th>LGBMClassifier</th>\n",
              "      <td>0.909294</td>\n",
              "    </tr>\n",
              "    <tr>\n",
              "      <th>LGBMClassifier_skf</th>\n",
              "      <td>0.910649</td>\n",
              "    </tr>\n",
              "  </tbody>\n",
              "</table>\n",
              "</div>"
            ],
            "text/plain": [
              "                             ROC-AUC\n",
              "LogisticRegression          0.814608\n",
              "LogisticRegression_skf      0.815319\n",
              "RandomForestClassifier      0.903539\n",
              "RandomForestClassifier_skf  0.905212\n",
              "LGBMClassifier              0.909294\n",
              "LGBMClassifier_skf          0.910649"
            ]
          },
          "metadata": {
            "tags": []
          },
          "execution_count": 52
        }
      ]
    },
    {
      "cell_type": "code",
      "metadata": {
        "colab": {
          "base_uri": "https://localhost:8080/"
        },
        "id": "cm2zRANz54Td",
        "outputId": "02ef03b2-2776-4015-95dd-dfc3cd14f3ab"
      },
      "source": [
        "lgbm_ = LGBMClassifier(learning_rate=0.1, n_estimators=200, num_leaves=50)\n",
        "rf_ = RandomForestClassifier(bootstrap=True, max_depth=30, n_estimators=200)\n",
        "lr_ = LogisticRegression(C=3.334, penalty= 'l2')\n",
        "\n",
        "clf_st = VotingClassifier(estimators=[\n",
        "    ('lr', lr_), ('rf', rf_), ('lgb', lgbm_)], voting='soft')\n",
        "\n",
        "clf_st.fit(X_train_scaled, y_train.values)"
      ],
      "execution_count": 54,
      "outputs": [
        {
          "output_type": "execute_result",
          "data": {
            "text/plain": [
              "VotingClassifier(estimators=[('lr',\n",
              "                              LogisticRegression(C=3.334, class_weight=None,\n",
              "                                                 dual=False, fit_intercept=True,\n",
              "                                                 intercept_scaling=1,\n",
              "                                                 l1_ratio=None, max_iter=100,\n",
              "                                                 multi_class='auto',\n",
              "                                                 n_jobs=None, penalty='l2',\n",
              "                                                 random_state=None,\n",
              "                                                 solver='lbfgs', tol=0.0001,\n",
              "                                                 verbose=0, warm_start=False)),\n",
              "                             ('rf',\n",
              "                              RandomForestClassifier(bootstrap=True,\n",
              "                                                     ccp_alpha=0.0,\n",
              "                                                     class_weight=None,...\n",
              "                                             importance_type='split',\n",
              "                                             learning_rate=0.1, max_depth=-1,\n",
              "                                             min_child_samples=20,\n",
              "                                             min_child_weight=0.001,\n",
              "                                             min_split_gain=0.0,\n",
              "                                             n_estimators=200, n_jobs=-1,\n",
              "                                             num_leaves=50, objective=None,\n",
              "                                             random_state=None, reg_alpha=0.0,\n",
              "                                             reg_lambda=0.0, silent=True,\n",
              "                                             subsample=1.0,\n",
              "                                             subsample_for_bin=200000,\n",
              "                                             subsample_freq=0))],\n",
              "                 flatten_transform=True, n_jobs=None, voting='soft',\n",
              "                 weights=None)"
            ]
          },
          "metadata": {
            "tags": []
          },
          "execution_count": 54
        }
      ]
    },
    {
      "cell_type": "code",
      "metadata": {
        "colab": {
          "base_uri": "https://localhost:8080/",
          "height": 257
        },
        "id": "45e87E-wvN8c",
        "outputId": "1c13c9e8-3381-4027-8df6-c7e0827e84e1"
      },
      "source": [
        "df_report = get_scores(df_report, clf_st, X_test_scaled, y_test,\n",
        "                       'VotingClassifier')\n",
        "df_report"
      ],
      "execution_count": 55,
      "outputs": [
        {
          "output_type": "execute_result",
          "data": {
            "text/html": [
              "<div>\n",
              "<style scoped>\n",
              "    .dataframe tbody tr th:only-of-type {\n",
              "        vertical-align: middle;\n",
              "    }\n",
              "\n",
              "    .dataframe tbody tr th {\n",
              "        vertical-align: top;\n",
              "    }\n",
              "\n",
              "    .dataframe thead th {\n",
              "        text-align: right;\n",
              "    }\n",
              "</style>\n",
              "<table border=\"1\" class=\"dataframe\">\n",
              "  <thead>\n",
              "    <tr style=\"text-align: right;\">\n",
              "      <th></th>\n",
              "      <th>ROC-AUC</th>\n",
              "    </tr>\n",
              "  </thead>\n",
              "  <tbody>\n",
              "    <tr>\n",
              "      <th>LogisticRegression</th>\n",
              "      <td>0.814608</td>\n",
              "    </tr>\n",
              "    <tr>\n",
              "      <th>LogisticRegression_skf</th>\n",
              "      <td>0.815319</td>\n",
              "    </tr>\n",
              "    <tr>\n",
              "      <th>RandomForestClassifier</th>\n",
              "      <td>0.903539</td>\n",
              "    </tr>\n",
              "    <tr>\n",
              "      <th>RandomForestClassifier_skf</th>\n",
              "      <td>0.905212</td>\n",
              "    </tr>\n",
              "    <tr>\n",
              "      <th>LGBMClassifier</th>\n",
              "      <td>0.909294</td>\n",
              "    </tr>\n",
              "    <tr>\n",
              "      <th>LGBMClassifier_skf</th>\n",
              "      <td>0.910649</td>\n",
              "    </tr>\n",
              "    <tr>\n",
              "      <th>VotingClassifier</th>\n",
              "      <td>0.902728</td>\n",
              "    </tr>\n",
              "  </tbody>\n",
              "</table>\n",
              "</div>"
            ],
            "text/plain": [
              "                             ROC-AUC\n",
              "LogisticRegression          0.814608\n",
              "LogisticRegression_skf      0.815319\n",
              "RandomForestClassifier      0.903539\n",
              "RandomForestClassifier_skf  0.905212\n",
              "LGBMClassifier              0.909294\n",
              "LGBMClassifier_skf          0.910649\n",
              "VotingClassifier            0.902728"
            ]
          },
          "metadata": {
            "tags": []
          },
          "execution_count": 55
        }
      ]
    },
    {
      "cell_type": "code",
      "metadata": {
        "id": "jk1cnF1KvOB5"
      },
      "source": [
        "# функция для посылки на kaggle\n",
        "def write_to_submission(df, y_pred, out_file):\n",
        "    data = df.reset_index()\n",
        "    \n",
        "    solution = pd.concat([data['EventId'], pd.Series(y_pred)], axis=1)\n",
        "    solution.rename(columns={0: \"Class\"},inplace=True)\n",
        "    solution = solution.replace(1,'s'); solution = solution.replace(0,'b')\n",
        "    solution['RankOrder'] = solution['Class'].argsort() + 1\n",
        "    solution = solution[['EventId', 'RankOrder','Class']]\n",
        "\n",
        "    return solution.to_csv(out_file,index=False)"
      ],
      "execution_count": 56,
      "outputs": []
    },
    {
      "cell_type": "code",
      "metadata": {
        "id": "KVHqPTK9-9ox"
      },
      "source": [
        "X = train_df.drop(['Weight', 'Label'], axis=1)\n",
        "y = train_df['Label']\n",
        "\n",
        "scaler = StandardScaler()\n",
        "scaler.fit(X.values.reshape(-1, 30))\n",
        "\n",
        "train_df_scaled = scaler.transform(X.values.reshape(-1, 30))\n",
        "test_df_scaled = scaler.transform(test_df.values.reshape(-1, 30))"
      ],
      "execution_count": 57,
      "outputs": []
    },
    {
      "cell_type": "code",
      "metadata": {
        "id": "PtzUmaSYvOF3"
      },
      "source": [
        "lgbm = LGBMClassifier(learning_rate=0.1, n_estimators=200, num_leaves=50, n_jobs=-1)\n",
        "lgbm.fit(train_df_scaled, y)\n",
        "\n",
        "y_pred = lgbm.predict(test_df_scaled)"
      ],
      "execution_count": 59,
      "outputs": []
    },
    {
      "cell_type": "code",
      "metadata": {
        "id": "Lz-Ux0kt_dSp"
      },
      "source": [
        "write_to_submission(test_df, y_pred, 'sub.csv') # score на kaggle - 2.87767"
      ],
      "execution_count": 60,
      "outputs": []
    },
    {
      "cell_type": "code",
      "metadata": {
        "id": "g4KX8rBMANOg"
      },
      "source": [
        "rf = RandomForestClassifier(n_estimators=100, class_weight=\"balanced_subsample\", n_jobs=-1).fit(train_df_scaled, y)\n",
        "y_pred = rf.predict(test_df_scaled)\n",
        "\n",
        "write_to_submission(test_df, y_pred, 'sub1.csv') # score на kaggle - 2.94268"
      ],
      "execution_count": 61,
      "outputs": []
    },
    {
      "cell_type": "markdown",
      "metadata": {
        "id": "Cn5qgJhNBp9g"
      },
      "source": [
        "[**Профиль на Kaggle**](https://www.kaggle.com/leoaganist)"
      ]
    },
    {
      "cell_type": "code",
      "metadata": {
        "colab": {
          "base_uri": "https://localhost:8080/",
          "height": 126
        },
        "id": "ElA-wNPqBXTE",
        "outputId": "85f82650-c241-48fa-f435-a243d3ff66e0"
      },
      "source": [
        "# Наилучший скор на kaggle\n",
        "from IPython.display import Image\n",
        "Image('score.png')"
      ],
      "execution_count": 62,
      "outputs": [
        {
          "output_type": "execute_result",
          "data": {
            "image/png": "[encoded data removed]",
            "text/plain": [
              "<IPython.core.display.Image object>"
            ]
          },
          "metadata": {
            "tags": []
          },
          "execution_count": 62
        }
      ]
    }
  ]
}