{
  "nbformat": 4,
  "nbformat_minor": 0,
  "metadata": {
    "kernelspec": {
      "display_name": "Python 3",
      "language": "python",
      "name": "python3"
    },
    "language_info": {
      "codemirror_mode": {
        "name": "ipython",
        "version": 3
      },
      "file_extension": ".py",
      "mimetype": "text/x-python",
      "name": "python",
      "nbconvert_exporter": "python",
      "pygments_lexer": "ipython3",
      "version": "3.8.6"
    },
    "colab": {
      "name": "Lecture04_Task.ipynb",
      "provenance": [],
      "collapsed_sections": []
    }
  },
  "cells": [
    {
      "cell_type": "markdown",
      "metadata": {
        "id": "WESxut3y6ebx"
      },
      "source": [
        "### Задачи к Лекции 4\n",
        "\n",
        "__Исходные данные__ \n",
        "\n",
        "Дан файл **\"mlbootcamp5_train.csv\"**. В нем содержатся данные об опросе 70000 пациентов с целью определения наличия заболеваний сердечно-сосудистой системы (ССЗ). Данные в файле промаркированы и если у человека имееются ССЗ, то значение **cardio** будет равно 1, в противном случае - 0. Описание и значения полей представлены во второй лекции.\n",
        "\n",
        "__Загрузка файла__"
      ]
    },
    {
      "cell_type": "code",
      "metadata": {
        "colab": {
          "base_uri": "https://localhost:8080/"
        },
        "id": "6bj6Kokr6pX_",
        "outputId": "4380b6ee-a427-417e-98e5-94fc9402d5d6"
      },
      "source": [
        "from google.colab import drive\n",
        "drive.mount('/content/drive')"
      ],
      "execution_count": 30,
      "outputs": [
        {
          "output_type": "stream",
          "text": [
            "Drive already mounted at /content/drive; to attempt to forcibly remount, call drive.mount(\"/content/drive\", force_remount=True).\n"
          ],
          "name": "stdout"
        }
      ]
    },
    {
      "cell_type": "code",
      "metadata": {
        "colab": {
          "base_uri": "https://localhost:8080/",
          "height": 235
        },
        "id": "5eOuJKn_6eb_",
        "outputId": "702d366b-6467-4e57-a625-d6d531497b8f"
      },
      "source": [
        "%matplotlib inline\n",
        "import numpy as np\n",
        "import pandas as pd\n",
        "import seaborn as sns\n",
        "from matplotlib import pyplot as plt\n",
        "import warnings\n",
        "warnings.filterwarnings('ignore')\n",
        "import matplotlib.pyplot as plt\n",
        "plt.rcParams['figure.figsize'] = [10, 5]\n",
        "\n",
        "\n",
        "df = pd.read_csv(\"/content/drive/MyDrive/ML/ml2021p/data/mlbootcamp5_train.csv\", \n",
        "                 sep=\";\", \n",
        "                 index_col=\"id\")\n",
        "# Делаем one-hot кодирование\n",
        "chol = pd.get_dummies(df[\"cholesterol\"], prefix=\"chol\")\n",
        "gluc = pd.get_dummies(df[\"gluc\"], prefix=\"gluc\")\n",
        "df = pd.concat([df, chol, gluc], axis=1)\n",
        "\n",
        "# Делаем пол бинарным признаком\n",
        "df[\"gender_bin\"] = df[\"gender\"].map({1: 0, 2: 1})\n",
        "df.head()"
      ],
      "execution_count": 31,
      "outputs": [
        {
          "output_type": "execute_result",
          "data": {
            "text/html": [
              "<div>\n",
              "<style scoped>\n",
              "    .dataframe tbody tr th:only-of-type {\n",
              "        vertical-align: middle;\n",
              "    }\n",
              "\n",
              "    .dataframe tbody tr th {\n",
              "        vertical-align: top;\n",
              "    }\n",
              "\n",
              "    .dataframe thead th {\n",
              "        text-align: right;\n",
              "    }\n",
              "</style>\n",
              "<table border=\"1\" class=\"dataframe\">\n",
              "  <thead>\n",
              "    <tr style=\"text-align: right;\">\n",
              "      <th></th>\n",
              "      <th>age</th>\n",
              "      <th>gender</th>\n",
              "      <th>height</th>\n",
              "      <th>weight</th>\n",
              "      <th>ap_hi</th>\n",
              "      <th>ap_lo</th>\n",
              "      <th>cholesterol</th>\n",
              "      <th>gluc</th>\n",
              "      <th>smoke</th>\n",
              "      <th>alco</th>\n",
              "      <th>active</th>\n",
              "      <th>cardio</th>\n",
              "      <th>chol_1</th>\n",
              "      <th>chol_2</th>\n",
              "      <th>chol_3</th>\n",
              "      <th>gluc_1</th>\n",
              "      <th>gluc_2</th>\n",
              "      <th>gluc_3</th>\n",
              "      <th>gender_bin</th>\n",
              "    </tr>\n",
              "    <tr>\n",
              "      <th>id</th>\n",
              "      <th></th>\n",
              "      <th></th>\n",
              "      <th></th>\n",
              "      <th></th>\n",
              "      <th></th>\n",
              "      <th></th>\n",
              "      <th></th>\n",
              "      <th></th>\n",
              "      <th></th>\n",
              "      <th></th>\n",
              "      <th></th>\n",
              "      <th></th>\n",
              "      <th></th>\n",
              "      <th></th>\n",
              "      <th></th>\n",
              "      <th></th>\n",
              "      <th></th>\n",
              "      <th></th>\n",
              "      <th></th>\n",
              "    </tr>\n",
              "  </thead>\n",
              "  <tbody>\n",
              "    <tr>\n",
              "      <th>0</th>\n",
              "      <td>18393</td>\n",
              "      <td>2</td>\n",
              "      <td>168</td>\n",
              "      <td>62.0</td>\n",
              "      <td>110</td>\n",
              "      <td>80</td>\n",
              "      <td>1</td>\n",
              "      <td>1</td>\n",
              "      <td>0</td>\n",
              "      <td>0</td>\n",
              "      <td>1</td>\n",
              "      <td>0</td>\n",
              "      <td>1</td>\n",
              "      <td>0</td>\n",
              "      <td>0</td>\n",
              "      <td>1</td>\n",
              "      <td>0</td>\n",
              "      <td>0</td>\n",
              "      <td>1</td>\n",
              "    </tr>\n",
              "    <tr>\n",
              "      <th>1</th>\n",
              "      <td>20228</td>\n",
              "      <td>1</td>\n",
              "      <td>156</td>\n",
              "      <td>85.0</td>\n",
              "      <td>140</td>\n",
              "      <td>90</td>\n",
              "      <td>3</td>\n",
              "      <td>1</td>\n",
              "      <td>0</td>\n",
              "      <td>0</td>\n",
              "      <td>1</td>\n",
              "      <td>1</td>\n",
              "      <td>0</td>\n",
              "      <td>0</td>\n",
              "      <td>1</td>\n",
              "      <td>1</td>\n",
              "      <td>0</td>\n",
              "      <td>0</td>\n",
              "      <td>0</td>\n",
              "    </tr>\n",
              "    <tr>\n",
              "      <th>2</th>\n",
              "      <td>18857</td>\n",
              "      <td>1</td>\n",
              "      <td>165</td>\n",
              "      <td>64.0</td>\n",
              "      <td>130</td>\n",
              "      <td>70</td>\n",
              "      <td>3</td>\n",
              "      <td>1</td>\n",
              "      <td>0</td>\n",
              "      <td>0</td>\n",
              "      <td>0</td>\n",
              "      <td>1</td>\n",
              "      <td>0</td>\n",
              "      <td>0</td>\n",
              "      <td>1</td>\n",
              "      <td>1</td>\n",
              "      <td>0</td>\n",
              "      <td>0</td>\n",
              "      <td>0</td>\n",
              "    </tr>\n",
              "    <tr>\n",
              "      <th>3</th>\n",
              "      <td>17623</td>\n",
              "      <td>2</td>\n",
              "      <td>169</td>\n",
              "      <td>82.0</td>\n",
              "      <td>150</td>\n",
              "      <td>100</td>\n",
              "      <td>1</td>\n",
              "      <td>1</td>\n",
              "      <td>0</td>\n",
              "      <td>0</td>\n",
              "      <td>1</td>\n",
              "      <td>1</td>\n",
              "      <td>1</td>\n",
              "      <td>0</td>\n",
              "      <td>0</td>\n",
              "      <td>1</td>\n",
              "      <td>0</td>\n",
              "      <td>0</td>\n",
              "      <td>1</td>\n",
              "    </tr>\n",
              "    <tr>\n",
              "      <th>4</th>\n",
              "      <td>17474</td>\n",
              "      <td>1</td>\n",
              "      <td>156</td>\n",
              "      <td>56.0</td>\n",
              "      <td>100</td>\n",
              "      <td>60</td>\n",
              "      <td>1</td>\n",
              "      <td>1</td>\n",
              "      <td>0</td>\n",
              "      <td>0</td>\n",
              "      <td>0</td>\n",
              "      <td>0</td>\n",
              "      <td>1</td>\n",
              "      <td>0</td>\n",
              "      <td>0</td>\n",
              "      <td>1</td>\n",
              "      <td>0</td>\n",
              "      <td>0</td>\n",
              "      <td>0</td>\n",
              "    </tr>\n",
              "  </tbody>\n",
              "</table>\n",
              "</div>"
            ],
            "text/plain": [
              "      age  gender  height  weight  ...  gluc_1  gluc_2  gluc_3  gender_bin\n",
              "id                                 ...                                    \n",
              "0   18393       2     168    62.0  ...       1       0       0           1\n",
              "1   20228       1     156    85.0  ...       1       0       0           0\n",
              "2   18857       1     165    64.0  ...       1       0       0           0\n",
              "3   17623       2     169    82.0  ...       1       0       0           1\n",
              "4   17474       1     156    56.0  ...       1       0       0           0\n",
              "\n",
              "[5 rows x 19 columns]"
            ]
          },
          "metadata": {
            "tags": []
          },
          "execution_count": 31
        }
      ]
    },
    {
      "cell_type": "code",
      "metadata": {
        "id": "KGG2H_rSr6SW"
      },
      "source": [
        "num_cols = ['age',\n",
        "            'height',\n",
        "            'weight',\n",
        "            'ap_hi',\n",
        "            'ap_lo']"
      ],
      "execution_count": 32,
      "outputs": []
    },
    {
      "cell_type": "markdown",
      "metadata": {
        "id": "YJG1Goq06ecC"
      },
      "source": [
        "## Задачи"
      ]
    },
    {
      "cell_type": "markdown",
      "metadata": {
        "id": "7D0CmflD6ecD"
      },
      "source": [
        "__1. Хоть в sklearn и присутствует реализация метода k-ближайших соседей, я же предлагаю попробовать вам написать его самостоятельно.__\n",
        "\n",
        "* __создать классификатор используя только pandas, numpy и scipy. Гиперпараметром данного классификатора должно быть число ближайших соседей. (Необязательно) можно добавить метрику расстояния и выбор весов.__\n",
        "* __С помощью кросс-валидации найти оптимальное количество ближайших соседей и (необязательно) набор признаков.__\n",
        "\n",
        "Алгоритм работы классификатора:\n",
        " 1. Для заданного прецедент  $\\vec{x}$ мы считаем расстояние до всех прецедентов в обучающей выборке.\n",
        " 2. Сортируем прецеденты по расстоянию до $\\vec{x}$.\n",
        " 3. Отбираем $k$ минимальных значений\n",
        " 4. Устраиваем голосование между отобранными прецедент."
      ]
    },
    {
      "cell_type": "code",
      "metadata": {
        "id": "-KYatn8PPa8r"
      },
      "source": [
        "from tqdm import tqdm\r\n",
        "from sklearn.model_selection import train_test_split, GridSearchCV, KFold\r\n",
        "from sklearn.metrics import accuracy_score, f1_score, roc_auc_score\r\n",
        "from sklearn.preprocessing import StandardScaler"
      ],
      "execution_count": 76,
      "outputs": []
    },
    {
      "cell_type": "code",
      "metadata": {
        "id": "9CT3dK8w6ecD"
      },
      "source": [
        "class KNN():\n",
        "    \n",
        "    def __init__(self, k=1):\n",
        "        self.k = k\n",
        "        \n",
        "    def fit(self, X, y):\n",
        "        self.X_train = X\n",
        "        self.y_train = y\n",
        "        \n",
        "    def predict(self, X):\n",
        "        dists = self.compute_distances(X)\n",
        "        \n",
        "        num_test = dists.shape[0]\n",
        "        pred = np.zeros(num_test, np.bool)\n",
        "        for i in tqdm(range(num_test)):\n",
        "            ind = dists[i].argsort()[:self.k]\n",
        "            pred[i] = bool(np.median(self.y_train[ind]))\n",
        "            \n",
        "        return pred\n",
        "    \n",
        "    def compute_distances(self, X):\n",
        "        num_train = self.X_train.shape[0]\n",
        "        num_test = X.shape[0]\n",
        "        dists = np.zeros((num_test, num_train), np.float32)\n",
        "        for i_test in tqdm(range(num_test)):\n",
        "            dists[i_test] = np.sum(np.abs(X[i_test] - self.X_train), axis=1)\n",
        "\n",
        "        return dists"
      ],
      "execution_count": 35,
      "outputs": []
    },
    {
      "cell_type": "code",
      "metadata": {
        "id": "48yACX4V6ecI"
      },
      "source": [
        "X = df.drop(['cardio'], axis=1)\n",
        "y = df['cardio']\n",
        "\n",
        "X_train, X_test, y_train, y_test = train_test_split(X, y, test_size=0.3, random_state=17)"
      ],
      "execution_count": 36,
      "outputs": []
    },
    {
      "cell_type": "code",
      "metadata": {
        "id": "Dw4PFa0Yrj3i"
      },
      "source": [
        "scaler = StandardScaler()\n",
        "\n",
        "scaler.fit(X_train[num_cols].values.reshape(-1, 5))\n",
        "\n",
        "X_train[num_cols] = scaler.transform(X_train[num_cols].values.reshape(-1, 5))\n",
        "X_test[num_cols] = scaler.transform(X_test[num_cols].values.reshape(-1, 5))"
      ],
      "execution_count": 37,
      "outputs": []
    },
    {
      "cell_type": "code",
      "metadata": {
        "id": "qWABAyKkX5GD"
      },
      "source": [
        "def MyKNNGridSearchCV(params, X, y, cv):\n",
        "\n",
        "    X = X.values\n",
        "    y = y.values\n",
        "\n",
        "    scores = []\n",
        "\n",
        "    kf = KFold(n_splits=cv, random_state=42, shuffle=False)\n",
        "\n",
        "    for param in params:\n",
        "\n",
        "        for train_index, test_index in kf.split(X):\n",
        "\n",
        "            data_train, data_test, data_train_target, data_test_target = X[train_index], X[test_index], y[train_index], y[test_index]\n",
        "\n",
        "        model = KNN(param)\n",
        "        model.fit(data_train, data_train_target)\n",
        "        pred = model.predict(data_test)\n",
        "\n",
        "        scores.append(accuracy_score(data_test_target, pred))\n",
        "\n",
        "    return scores"
      ],
      "execution_count": null,
      "outputs": []
    },
    {
      "cell_type": "code",
      "metadata": {
        "colab": {
          "base_uri": "https://localhost:8080/"
        },
        "id": "0zMnWvBDeOz8",
        "outputId": "f26742e1-14ae-491e-8417-b1db86f80fad"
      },
      "source": [
        "model_CV = MyKNNGridSearchCV([2, 3, 4, 5, 6], X_train, y_train, 5)"
      ],
      "execution_count": null,
      "outputs": [
        {
          "output_type": "stream",
          "text": [
            "100%|██████████| 9800/9800 [01:47<00:00, 91.12it/s]\n",
            "100%|██████████| 9800/9800 [00:38<00:00, 254.10it/s]\n",
            "100%|██████████| 9800/9800 [01:37<00:00, 100.42it/s]\n",
            "100%|██████████| 9800/9800 [00:38<00:00, 253.07it/s]\n",
            "100%|██████████| 9800/9800 [01:36<00:00, 101.35it/s]\n",
            "100%|██████████| 9800/9800 [00:38<00:00, 253.71it/s]\n",
            "100%|██████████| 9800/9800 [01:36<00:00, 101.99it/s]\n",
            "100%|██████████| 9800/9800 [00:38<00:00, 253.57it/s]\n",
            "100%|██████████| 9800/9800 [01:37<00:00, 100.67it/s]\n",
            "100%|██████████| 9800/9800 [00:38<00:00, 252.53it/s]\n"
          ],
          "name": "stderr"
        }
      ]
    },
    {
      "cell_type": "code",
      "metadata": {
        "colab": {
          "base_uri": "https://localhost:8080/"
        },
        "id": "hksj5-FKjW52",
        "outputId": "a054eb3b-f553-4eb4-bb96-d935ab7757fb"
      },
      "source": [
        "best_score = np.max(model_CV)\n",
        "best_score, model_CV"
      ],
      "execution_count": null,
      "outputs": [
        {
          "output_type": "execute_result",
          "data": {
            "text/plain": [
              "(0.6639795918367347,\n",
              " [0.6187755102040816,\n",
              "  0.6455102040816326,\n",
              "  0.6532653061224489,\n",
              "  0.6639795918367347,\n",
              "  0.6618367346938776])"
            ]
          },
          "metadata": {
            "tags": []
          },
          "execution_count": 25
        }
      ]
    },
    {
      "cell_type": "code",
      "metadata": {
        "colab": {
          "base_uri": "https://localhost:8080/"
        },
        "id": "RSYQ8bBLkAfT",
        "outputId": "fc8e2f8f-2db3-4e10-903d-ac5f6c36a8dc"
      },
      "source": [
        "X = df.drop(['cardio'], axis=1)\n",
        "y = df['cardio'].values\n",
        "\n",
        "X_train, X_test, y_train, y_test = train_test_split(X, y, test_size=0.3, random_state=17)\n",
        "\n",
        "scaler = StandardScaler()\n",
        "\n",
        "scaler.fit(X_train[num_cols].values.reshape(-1, 5))\n",
        "\n",
        "X_train[num_cols] = scaler.transform(X_train[num_cols].values.reshape(-1, 5))\n",
        "X_test[num_cols] = scaler.transform(X_test[num_cols].values.reshape(-1, 5))\n",
        "\n",
        "X_train = X_train.values\n",
        "X_test = X_test.values\n",
        "\n",
        "model = KNN(5)\n",
        "model.fit(X_train, y_train)\n",
        "pred = model.predict(X_test)\n",
        "accuracy_score(y_test, pred)"
      ],
      "execution_count": null,
      "outputs": [
        {
          "output_type": "stream",
          "text": [
            "100%|██████████| 21000/21000 [01:27<00:00, 240.48it/s]\n",
            "100%|██████████| 21000/21000 [01:45<00:00, 198.93it/s]\n"
          ],
          "name": "stderr"
        },
        {
          "output_type": "execute_result",
          "data": {
            "text/plain": [
              "0.6591904761904762"
            ]
          },
          "metadata": {
            "tags": []
          },
          "execution_count": 29
        }
      ]
    },
    {
      "cell_type": "markdown",
      "metadata": {
        "id": "5lbaHLyc6ecK"
      },
      "source": [
        "**Комментарии:** Без масштабирования признаков, score был больше"
      ]
    },
    {
      "cell_type": "markdown",
      "metadata": {
        "id": "jKjbAlwB6ecL"
      },
      "source": [
        "**2. Определить какой из трех классификаторов (kNN, наивный Байес, решающее дерево) лучший в каждой метрике по отдельности: accuracy, F1-мера, ROC AUC, функция потерь. Использовать набор признаков: 'age', 'weight', 'height', 'ap_lo', 'ap_hi'.**\n",
        "\n",
        "**(Необязательно) Найти оптимальный набор признаков.**"
      ]
    },
    {
      "cell_type": "code",
      "metadata": {
        "id": "tJGBoDonzx5O"
      },
      "source": [
        "from sklearn.neighbors import KNeighborsClassifier\r\n",
        "from sklearn.tree import DecisionTreeClassifier"
      ],
      "execution_count": 103,
      "outputs": []
    },
    {
      "cell_type": "code",
      "metadata": {
        "id": "B4R_DpZL19a5"
      },
      "source": [
        "def GridSearch(model, params, df, cv):\r\n",
        "\r\n",
        "    X = df[num_cols]\r\n",
        "    y = df['cardio']\r\n",
        "\r\n",
        "    X_train, X_test, y_train, y_test = train_test_split(X, y, test_size=0.3, random_state=17)\r\n",
        "\r\n",
        "    model_CV = GridSearchCV(model, params, cv=cv, scoring='accuracy', n_jobs=-1)\r\n",
        "    model_CV.fit(X_train, y_train)\r\n",
        "    best_estimator = model_CV.best_estimator_\r\n",
        "\r\n",
        "\r\n",
        "    pred = best_estimator.predict(X_test)\r\n",
        "    metrics = {'accuracy': accuracy_score(y_test, pred),\r\n",
        "            'roc_auc': roc_auc_score(y_test, pred),\r\n",
        "            'f1': f1_score(y_test, pred)} \r\n",
        "\r\n",
        "\r\n",
        "    return metrics"
      ],
      "execution_count": 104,
      "outputs": []
    },
    {
      "cell_type": "code",
      "metadata": {
        "id": "U65FIvJ31iPm"
      },
      "source": [
        "param_knn = {'n_neighbors': np.arange(1, 7, 1)}\r\n",
        "param_tree = {'max_depth': np.arange(1, 10, 1)}\r\n",
        "\r\n",
        "knn = KNeighborsClassifier()\r\n",
        "tree = DecisionTreeClassifier()"
      ],
      "execution_count": 102,
      "outputs": []
    },
    {
      "cell_type": "code",
      "metadata": {
        "colab": {
          "base_uri": "https://localhost:8080/"
        },
        "id": "9su34C-c2FMR",
        "outputId": "6b48953f-aa45-4ca8-c224-f79b74ddafad"
      },
      "source": [
        "knn_best = GridSearch(knn, param_knn, df, 5)\r\n",
        "tree_best = GridSearch(tree, param_tree, df, 5)\r\n",
        "\r\n",
        "print(f'knn: {knn_best}\\ntree: {tree_best}')"
      ],
      "execution_count": 105,
      "outputs": [
        {
          "output_type": "stream",
          "text": [
            "knn: {'accuracy': 0.680047619047619, 'roc_auc': 0.680146059089396, 'f1': 0.6434219604097012}\n",
            "tree: {'accuracy': 0.7162380952380952, 'roc_auc': 0.7162810578512996, 'f1': 0.7030447999202671}\n"
          ],
          "name": "stdout"
        }
      ]
    },
    {
      "cell_type": "markdown",
      "metadata": {
        "id": "K96IKDhC6ecM"
      },
      "source": [
        "**Комментарии:** Ваши комментарии здесь."
      ]
    }
  ]
}