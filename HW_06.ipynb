{
  "nbformat": 4,
  "nbformat_minor": 0,
  "metadata": {
    "kernelspec": {
      "display_name": "Python 3",
      "language": "python",
      "name": "python3"
    },
    "language_info": {
      "codemirror_mode": {
        "name": "ipython",
        "version": 3
      },
      "file_extension": ".py",
      "mimetype": "text/x-python",
      "name": "python",
      "nbconvert_exporter": "python",
      "pygments_lexer": "ipython3",
      "version": "3.8.6"
    },
    "colab": {
      "name": "HW_06.ipynb",
      "provenance": [],
      "collapsed_sections": []
    }
  },
  "cells": [
    {
      "cell_type": "markdown",
      "metadata": {
        "id": "Z-Ysu3ENuZiD"
      },
      "source": [
        "# Задачи к Лекции 6\n",
        "\n",
        "Дан файл \"Anuran_Calls_(MFCCs).zip\", в котором содержится обработка звуков издаваемых различными видами лягушек. В качестве признаков выступают мел-кепстральные коэффициенты __[MFCC](https://en.wikipedia.org/wiki/Mel-frequency_cepstrum)__"
      ]
    },
    {
      "cell_type": "markdown",
      "metadata": {
        "id": "4cfSaMLsuZiR"
      },
      "source": [
        "**Чтение данных**"
      ]
    },
    {
      "cell_type": "code",
      "metadata": {
        "colab": {
          "base_uri": "https://localhost:8080/"
        },
        "id": "oupHIA_-ue_X",
        "outputId": "db4b2a36-de0f-4179-f561-e4864af58fd4"
      },
      "source": [
        "from google.colab import drive\n",
        "drive.mount('/content/drive')"
      ],
      "execution_count": 1,
      "outputs": [
        {
          "output_type": "stream",
          "text": [
            "Mounted at /content/drive\n"
          ],
          "name": "stdout"
        }
      ]
    },
    {
      "cell_type": "code",
      "metadata": {
        "colab": {
          "base_uri": "https://localhost:8080/",
          "height": 241
        },
        "id": "PcUKnA7huZiT",
        "outputId": "30b4c4dc-b15d-448a-fcf9-2affe2b71a15"
      },
      "source": [
        "%matplotlib inline\n",
        "import zipfile\n",
        "import numpy as np\n",
        "import pandas as pd\n",
        "import seaborn as sns\n",
        "import matplotlib.pyplot as plt\n",
        "import warnings\n",
        "warnings.filterwarnings('ignore')\n",
        "\n",
        "z = zipfile.ZipFile(\"/content/drive/MyDrive/ML/ml2021p/data/Anuran_Calls_(MFCCs).zip\")\n",
        "df = pd.read_csv(z.open(\"Frogs_MFCCs.csv\"))\n",
        "\n",
        "df.head()"
      ],
      "execution_count": 2,
      "outputs": [
        {
          "output_type": "execute_result",
          "data": {
            "text/html": [
              "<div>\n",
              "<style scoped>\n",
              "    .dataframe tbody tr th:only-of-type {\n",
              "        vertical-align: middle;\n",
              "    }\n",
              "\n",
              "    .dataframe tbody tr th {\n",
              "        vertical-align: top;\n",
              "    }\n",
              "\n",
              "    .dataframe thead th {\n",
              "        text-align: right;\n",
              "    }\n",
              "</style>\n",
              "<table border=\"1\" class=\"dataframe\">\n",
              "  <thead>\n",
              "    <tr style=\"text-align: right;\">\n",
              "      <th></th>\n",
              "      <th>MFCCs_ 1</th>\n",
              "      <th>MFCCs_ 2</th>\n",
              "      <th>MFCCs_ 3</th>\n",
              "      <th>MFCCs_ 4</th>\n",
              "      <th>MFCCs_ 5</th>\n",
              "      <th>MFCCs_ 6</th>\n",
              "      <th>MFCCs_ 7</th>\n",
              "      <th>MFCCs_ 8</th>\n",
              "      <th>MFCCs_ 9</th>\n",
              "      <th>MFCCs_10</th>\n",
              "      <th>MFCCs_11</th>\n",
              "      <th>MFCCs_12</th>\n",
              "      <th>MFCCs_13</th>\n",
              "      <th>MFCCs_14</th>\n",
              "      <th>MFCCs_15</th>\n",
              "      <th>MFCCs_16</th>\n",
              "      <th>MFCCs_17</th>\n",
              "      <th>MFCCs_18</th>\n",
              "      <th>MFCCs_19</th>\n",
              "      <th>MFCCs_20</th>\n",
              "      <th>MFCCs_21</th>\n",
              "      <th>MFCCs_22</th>\n",
              "      <th>Family</th>\n",
              "      <th>Genus</th>\n",
              "      <th>Species</th>\n",
              "      <th>RecordID</th>\n",
              "    </tr>\n",
              "  </thead>\n",
              "  <tbody>\n",
              "    <tr>\n",
              "      <th>0</th>\n",
              "      <td>1.0</td>\n",
              "      <td>0.152936</td>\n",
              "      <td>-0.105586</td>\n",
              "      <td>0.200722</td>\n",
              "      <td>0.317201</td>\n",
              "      <td>0.260764</td>\n",
              "      <td>0.100945</td>\n",
              "      <td>-0.150063</td>\n",
              "      <td>-0.171128</td>\n",
              "      <td>0.124676</td>\n",
              "      <td>0.188654</td>\n",
              "      <td>-0.075622</td>\n",
              "      <td>-0.156436</td>\n",
              "      <td>0.082245</td>\n",
              "      <td>0.135752</td>\n",
              "      <td>-0.024017</td>\n",
              "      <td>-0.108351</td>\n",
              "      <td>-0.077623</td>\n",
              "      <td>-0.009568</td>\n",
              "      <td>0.057684</td>\n",
              "      <td>0.118680</td>\n",
              "      <td>0.014038</td>\n",
              "      <td>Leptodactylidae</td>\n",
              "      <td>Adenomera</td>\n",
              "      <td>AdenomeraAndre</td>\n",
              "      <td>1</td>\n",
              "    </tr>\n",
              "    <tr>\n",
              "      <th>1</th>\n",
              "      <td>1.0</td>\n",
              "      <td>0.171534</td>\n",
              "      <td>-0.098975</td>\n",
              "      <td>0.268425</td>\n",
              "      <td>0.338672</td>\n",
              "      <td>0.268353</td>\n",
              "      <td>0.060835</td>\n",
              "      <td>-0.222475</td>\n",
              "      <td>-0.207693</td>\n",
              "      <td>0.170883</td>\n",
              "      <td>0.270958</td>\n",
              "      <td>-0.095004</td>\n",
              "      <td>-0.254341</td>\n",
              "      <td>0.022786</td>\n",
              "      <td>0.163320</td>\n",
              "      <td>0.012022</td>\n",
              "      <td>-0.090974</td>\n",
              "      <td>-0.056510</td>\n",
              "      <td>-0.035303</td>\n",
              "      <td>0.020140</td>\n",
              "      <td>0.082263</td>\n",
              "      <td>0.029056</td>\n",
              "      <td>Leptodactylidae</td>\n",
              "      <td>Adenomera</td>\n",
              "      <td>AdenomeraAndre</td>\n",
              "      <td>1</td>\n",
              "    </tr>\n",
              "    <tr>\n",
              "      <th>2</th>\n",
              "      <td>1.0</td>\n",
              "      <td>0.152317</td>\n",
              "      <td>-0.082973</td>\n",
              "      <td>0.287128</td>\n",
              "      <td>0.276014</td>\n",
              "      <td>0.189867</td>\n",
              "      <td>0.008714</td>\n",
              "      <td>-0.242234</td>\n",
              "      <td>-0.219153</td>\n",
              "      <td>0.232538</td>\n",
              "      <td>0.266064</td>\n",
              "      <td>-0.072827</td>\n",
              "      <td>-0.237384</td>\n",
              "      <td>0.050791</td>\n",
              "      <td>0.207338</td>\n",
              "      <td>0.083536</td>\n",
              "      <td>-0.050691</td>\n",
              "      <td>-0.023590</td>\n",
              "      <td>-0.066722</td>\n",
              "      <td>-0.025083</td>\n",
              "      <td>0.099108</td>\n",
              "      <td>0.077162</td>\n",
              "      <td>Leptodactylidae</td>\n",
              "      <td>Adenomera</td>\n",
              "      <td>AdenomeraAndre</td>\n",
              "      <td>1</td>\n",
              "    </tr>\n",
              "    <tr>\n",
              "      <th>3</th>\n",
              "      <td>1.0</td>\n",
              "      <td>0.224392</td>\n",
              "      <td>0.118985</td>\n",
              "      <td>0.329432</td>\n",
              "      <td>0.372088</td>\n",
              "      <td>0.361005</td>\n",
              "      <td>0.015501</td>\n",
              "      <td>-0.194347</td>\n",
              "      <td>-0.098181</td>\n",
              "      <td>0.270375</td>\n",
              "      <td>0.267279</td>\n",
              "      <td>-0.162258</td>\n",
              "      <td>-0.317084</td>\n",
              "      <td>-0.011567</td>\n",
              "      <td>0.100413</td>\n",
              "      <td>-0.050224</td>\n",
              "      <td>-0.136009</td>\n",
              "      <td>-0.177037</td>\n",
              "      <td>-0.130498</td>\n",
              "      <td>-0.054766</td>\n",
              "      <td>-0.018691</td>\n",
              "      <td>0.023954</td>\n",
              "      <td>Leptodactylidae</td>\n",
              "      <td>Adenomera</td>\n",
              "      <td>AdenomeraAndre</td>\n",
              "      <td>1</td>\n",
              "    </tr>\n",
              "    <tr>\n",
              "      <th>4</th>\n",
              "      <td>1.0</td>\n",
              "      <td>0.087817</td>\n",
              "      <td>-0.068345</td>\n",
              "      <td>0.306967</td>\n",
              "      <td>0.330923</td>\n",
              "      <td>0.249144</td>\n",
              "      <td>0.006884</td>\n",
              "      <td>-0.265423</td>\n",
              "      <td>-0.172700</td>\n",
              "      <td>0.266434</td>\n",
              "      <td>0.332695</td>\n",
              "      <td>-0.100749</td>\n",
              "      <td>-0.298524</td>\n",
              "      <td>0.037439</td>\n",
              "      <td>0.219153</td>\n",
              "      <td>0.062837</td>\n",
              "      <td>-0.048885</td>\n",
              "      <td>-0.053074</td>\n",
              "      <td>-0.088550</td>\n",
              "      <td>-0.031346</td>\n",
              "      <td>0.108610</td>\n",
              "      <td>0.079244</td>\n",
              "      <td>Leptodactylidae</td>\n",
              "      <td>Adenomera</td>\n",
              "      <td>AdenomeraAndre</td>\n",
              "      <td>1</td>\n",
              "    </tr>\n",
              "  </tbody>\n",
              "</table>\n",
              "</div>"
            ],
            "text/plain": [
              "   MFCCs_ 1  MFCCs_ 2  MFCCs_ 3  ...      Genus         Species  RecordID\n",
              "0       1.0  0.152936 -0.105586  ...  Adenomera  AdenomeraAndre         1\n",
              "1       1.0  0.171534 -0.098975  ...  Adenomera  AdenomeraAndre         1\n",
              "2       1.0  0.152317 -0.082973  ...  Adenomera  AdenomeraAndre         1\n",
              "3       1.0  0.224392  0.118985  ...  Adenomera  AdenomeraAndre         1\n",
              "4       1.0  0.087817 -0.068345  ...  Adenomera  AdenomeraAndre         1\n",
              "\n",
              "[5 rows x 26 columns]"
            ]
          },
          "metadata": {
            "tags": []
          },
          "execution_count": 2
        }
      ]
    },
    {
      "cell_type": "markdown",
      "metadata": {
        "id": "iFlVdhqvuZiV"
      },
      "source": [
        "**Получение различной информации**"
      ]
    },
    {
      "cell_type": "code",
      "metadata": {
        "colab": {
          "base_uri": "https://localhost:8080/"
        },
        "id": "UCavx7bTuZiW",
        "outputId": "6ff9bc58-a2bf-47c5-e0f2-55eccfdf29b7"
      },
      "source": [
        "df.shape"
      ],
      "execution_count": 3,
      "outputs": [
        {
          "output_type": "execute_result",
          "data": {
            "text/plain": [
              "(7195, 26)"
            ]
          },
          "metadata": {
            "tags": []
          },
          "execution_count": 3
        }
      ]
    },
    {
      "cell_type": "code",
      "metadata": {
        "colab": {
          "base_uri": "https://localhost:8080/"
        },
        "id": "di9cUxC5uZiW",
        "outputId": "413e032d-fbb1-4f0a-9646-f9e18398cf6e"
      },
      "source": [
        "df.info()"
      ],
      "execution_count": 4,
      "outputs": [
        {
          "output_type": "stream",
          "text": [
            "<class 'pandas.core.frame.DataFrame'>\n",
            "RangeIndex: 7195 entries, 0 to 7194\n",
            "Data columns (total 26 columns):\n",
            " #   Column    Non-Null Count  Dtype  \n",
            "---  ------    --------------  -----  \n",
            " 0   MFCCs_ 1  7195 non-null   float64\n",
            " 1   MFCCs_ 2  7195 non-null   float64\n",
            " 2   MFCCs_ 3  7195 non-null   float64\n",
            " 3   MFCCs_ 4  7195 non-null   float64\n",
            " 4   MFCCs_ 5  7195 non-null   float64\n",
            " 5   MFCCs_ 6  7195 non-null   float64\n",
            " 6   MFCCs_ 7  7195 non-null   float64\n",
            " 7   MFCCs_ 8  7195 non-null   float64\n",
            " 8   MFCCs_ 9  7195 non-null   float64\n",
            " 9   MFCCs_10  7195 non-null   float64\n",
            " 10  MFCCs_11  7195 non-null   float64\n",
            " 11  MFCCs_12  7195 non-null   float64\n",
            " 12  MFCCs_13  7195 non-null   float64\n",
            " 13  MFCCs_14  7195 non-null   float64\n",
            " 14  MFCCs_15  7195 non-null   float64\n",
            " 15  MFCCs_16  7195 non-null   float64\n",
            " 16  MFCCs_17  7195 non-null   float64\n",
            " 17  MFCCs_18  7195 non-null   float64\n",
            " 18  MFCCs_19  7195 non-null   float64\n",
            " 19  MFCCs_20  7195 non-null   float64\n",
            " 20  MFCCs_21  7195 non-null   float64\n",
            " 21  MFCCs_22  7195 non-null   float64\n",
            " 22  Family    7195 non-null   object \n",
            " 23  Genus     7195 non-null   object \n",
            " 24  Species   7195 non-null   object \n",
            " 25  RecordID  7195 non-null   int64  \n",
            "dtypes: float64(22), int64(1), object(3)\n",
            "memory usage: 1.4+ MB\n"
          ],
          "name": "stdout"
        }
      ]
    },
    {
      "cell_type": "code",
      "metadata": {
        "colab": {
          "base_uri": "https://localhost:8080/",
          "height": 317
        },
        "id": "zawD_aVFuZiX",
        "outputId": "415daf5e-1ba2-4388-c60c-dc5eed8db6c8"
      },
      "source": [
        "df.describe()"
      ],
      "execution_count": 5,
      "outputs": [
        {
          "output_type": "execute_result",
          "data": {
            "text/html": [
              "<div>\n",
              "<style scoped>\n",
              "    .dataframe tbody tr th:only-of-type {\n",
              "        vertical-align: middle;\n",
              "    }\n",
              "\n",
              "    .dataframe tbody tr th {\n",
              "        vertical-align: top;\n",
              "    }\n",
              "\n",
              "    .dataframe thead th {\n",
              "        text-align: right;\n",
              "    }\n",
              "</style>\n",
              "<table border=\"1\" class=\"dataframe\">\n",
              "  <thead>\n",
              "    <tr style=\"text-align: right;\">\n",
              "      <th></th>\n",
              "      <th>MFCCs_ 1</th>\n",
              "      <th>MFCCs_ 2</th>\n",
              "      <th>MFCCs_ 3</th>\n",
              "      <th>MFCCs_ 4</th>\n",
              "      <th>MFCCs_ 5</th>\n",
              "      <th>MFCCs_ 6</th>\n",
              "      <th>MFCCs_ 7</th>\n",
              "      <th>MFCCs_ 8</th>\n",
              "      <th>MFCCs_ 9</th>\n",
              "      <th>MFCCs_10</th>\n",
              "      <th>MFCCs_11</th>\n",
              "      <th>MFCCs_12</th>\n",
              "      <th>MFCCs_13</th>\n",
              "      <th>MFCCs_14</th>\n",
              "      <th>MFCCs_15</th>\n",
              "      <th>MFCCs_16</th>\n",
              "      <th>MFCCs_17</th>\n",
              "      <th>MFCCs_18</th>\n",
              "      <th>MFCCs_19</th>\n",
              "      <th>MFCCs_20</th>\n",
              "      <th>MFCCs_21</th>\n",
              "      <th>MFCCs_22</th>\n",
              "      <th>RecordID</th>\n",
              "    </tr>\n",
              "  </thead>\n",
              "  <tbody>\n",
              "    <tr>\n",
              "      <th>count</th>\n",
              "      <td>7195.000000</td>\n",
              "      <td>7195.000000</td>\n",
              "      <td>7195.000000</td>\n",
              "      <td>7195.000000</td>\n",
              "      <td>7195.000000</td>\n",
              "      <td>7195.000000</td>\n",
              "      <td>7195.000000</td>\n",
              "      <td>7195.000000</td>\n",
              "      <td>7195.000000</td>\n",
              "      <td>7195.000000</td>\n",
              "      <td>7195.000000</td>\n",
              "      <td>7195.000000</td>\n",
              "      <td>7195.000000</td>\n",
              "      <td>7195.000000</td>\n",
              "      <td>7195.000000</td>\n",
              "      <td>7195.000000</td>\n",
              "      <td>7195.000000</td>\n",
              "      <td>7195.000000</td>\n",
              "      <td>7195.000000</td>\n",
              "      <td>7195.000000</td>\n",
              "      <td>7195.000000</td>\n",
              "      <td>7195.000000</td>\n",
              "      <td>7195.000000</td>\n",
              "    </tr>\n",
              "    <tr>\n",
              "      <th>mean</th>\n",
              "      <td>0.989885</td>\n",
              "      <td>0.323584</td>\n",
              "      <td>0.311224</td>\n",
              "      <td>0.445997</td>\n",
              "      <td>0.127046</td>\n",
              "      <td>0.097939</td>\n",
              "      <td>-0.001397</td>\n",
              "      <td>-0.000370</td>\n",
              "      <td>0.128213</td>\n",
              "      <td>0.055998</td>\n",
              "      <td>-0.115682</td>\n",
              "      <td>0.043371</td>\n",
              "      <td>0.150945</td>\n",
              "      <td>-0.039244</td>\n",
              "      <td>-0.101748</td>\n",
              "      <td>0.042062</td>\n",
              "      <td>0.088680</td>\n",
              "      <td>0.007755</td>\n",
              "      <td>-0.049474</td>\n",
              "      <td>-0.053244</td>\n",
              "      <td>0.037313</td>\n",
              "      <td>0.087567</td>\n",
              "      <td>25.220014</td>\n",
              "    </tr>\n",
              "    <tr>\n",
              "      <th>std</th>\n",
              "      <td>0.069016</td>\n",
              "      <td>0.218653</td>\n",
              "      <td>0.263527</td>\n",
              "      <td>0.160328</td>\n",
              "      <td>0.162722</td>\n",
              "      <td>0.120412</td>\n",
              "      <td>0.171404</td>\n",
              "      <td>0.116302</td>\n",
              "      <td>0.179008</td>\n",
              "      <td>0.127099</td>\n",
              "      <td>0.186792</td>\n",
              "      <td>0.155983</td>\n",
              "      <td>0.206880</td>\n",
              "      <td>0.152515</td>\n",
              "      <td>0.187618</td>\n",
              "      <td>0.119915</td>\n",
              "      <td>0.138055</td>\n",
              "      <td>0.084733</td>\n",
              "      <td>0.082546</td>\n",
              "      <td>0.094181</td>\n",
              "      <td>0.079470</td>\n",
              "      <td>0.123442</td>\n",
              "      <td>13.214399</td>\n",
              "    </tr>\n",
              "    <tr>\n",
              "      <th>min</th>\n",
              "      <td>-0.251179</td>\n",
              "      <td>-0.673025</td>\n",
              "      <td>-0.436028</td>\n",
              "      <td>-0.472676</td>\n",
              "      <td>-0.636012</td>\n",
              "      <td>-0.410417</td>\n",
              "      <td>-0.538982</td>\n",
              "      <td>-0.576506</td>\n",
              "      <td>-0.587313</td>\n",
              "      <td>-0.952266</td>\n",
              "      <td>-0.901989</td>\n",
              "      <td>-0.799441</td>\n",
              "      <td>-0.644116</td>\n",
              "      <td>-0.590380</td>\n",
              "      <td>-0.717156</td>\n",
              "      <td>-0.498675</td>\n",
              "      <td>-0.421480</td>\n",
              "      <td>-0.759322</td>\n",
              "      <td>-0.680745</td>\n",
              "      <td>-0.361649</td>\n",
              "      <td>-0.430812</td>\n",
              "      <td>-0.379304</td>\n",
              "      <td>1.000000</td>\n",
              "    </tr>\n",
              "    <tr>\n",
              "      <th>25%</th>\n",
              "      <td>1.000000</td>\n",
              "      <td>0.165945</td>\n",
              "      <td>0.138445</td>\n",
              "      <td>0.336737</td>\n",
              "      <td>0.051717</td>\n",
              "      <td>0.012581</td>\n",
              "      <td>-0.125737</td>\n",
              "      <td>-0.063109</td>\n",
              "      <td>0.004648</td>\n",
              "      <td>-0.001132</td>\n",
              "      <td>-0.269860</td>\n",
              "      <td>-0.033931</td>\n",
              "      <td>-0.002859</td>\n",
              "      <td>-0.132980</td>\n",
              "      <td>-0.255929</td>\n",
              "      <td>-0.019549</td>\n",
              "      <td>-0.001764</td>\n",
              "      <td>-0.042122</td>\n",
              "      <td>-0.106079</td>\n",
              "      <td>-0.120971</td>\n",
              "      <td>-0.017620</td>\n",
              "      <td>0.000533</td>\n",
              "      <td>15.000000</td>\n",
              "    </tr>\n",
              "    <tr>\n",
              "      <th>50%</th>\n",
              "      <td>1.000000</td>\n",
              "      <td>0.302184</td>\n",
              "      <td>0.274626</td>\n",
              "      <td>0.481463</td>\n",
              "      <td>0.161361</td>\n",
              "      <td>0.072079</td>\n",
              "      <td>-0.052630</td>\n",
              "      <td>0.013265</td>\n",
              "      <td>0.189317</td>\n",
              "      <td>0.063478</td>\n",
              "      <td>-0.153322</td>\n",
              "      <td>0.051054</td>\n",
              "      <td>0.196921</td>\n",
              "      <td>-0.050715</td>\n",
              "      <td>-0.143259</td>\n",
              "      <td>0.041081</td>\n",
              "      <td>0.112769</td>\n",
              "      <td>0.011820</td>\n",
              "      <td>-0.052626</td>\n",
              "      <td>-0.055180</td>\n",
              "      <td>0.031274</td>\n",
              "      <td>0.105373</td>\n",
              "      <td>22.000000</td>\n",
              "    </tr>\n",
              "    <tr>\n",
              "      <th>75%</th>\n",
              "      <td>1.000000</td>\n",
              "      <td>0.466566</td>\n",
              "      <td>0.430695</td>\n",
              "      <td>0.559861</td>\n",
              "      <td>0.222592</td>\n",
              "      <td>0.175957</td>\n",
              "      <td>0.085580</td>\n",
              "      <td>0.075108</td>\n",
              "      <td>0.265395</td>\n",
              "      <td>0.117725</td>\n",
              "      <td>0.026689</td>\n",
              "      <td>0.132432</td>\n",
              "      <td>0.324589</td>\n",
              "      <td>0.039157</td>\n",
              "      <td>0.017348</td>\n",
              "      <td>0.107046</td>\n",
              "      <td>0.201932</td>\n",
              "      <td>0.061889</td>\n",
              "      <td>0.006321</td>\n",
              "      <td>0.001342</td>\n",
              "      <td>0.089619</td>\n",
              "      <td>0.194819</td>\n",
              "      <td>37.000000</td>\n",
              "    </tr>\n",
              "    <tr>\n",
              "      <th>max</th>\n",
              "      <td>1.000000</td>\n",
              "      <td>1.000000</td>\n",
              "      <td>1.000000</td>\n",
              "      <td>1.000000</td>\n",
              "      <td>0.752246</td>\n",
              "      <td>0.964240</td>\n",
              "      <td>1.000000</td>\n",
              "      <td>0.551762</td>\n",
              "      <td>0.738033</td>\n",
              "      <td>0.522768</td>\n",
              "      <td>0.523033</td>\n",
              "      <td>0.690889</td>\n",
              "      <td>0.945710</td>\n",
              "      <td>0.575749</td>\n",
              "      <td>0.668924</td>\n",
              "      <td>0.670700</td>\n",
              "      <td>0.681157</td>\n",
              "      <td>0.614064</td>\n",
              "      <td>0.574209</td>\n",
              "      <td>0.467831</td>\n",
              "      <td>0.389797</td>\n",
              "      <td>0.432207</td>\n",
              "      <td>60.000000</td>\n",
              "    </tr>\n",
              "  </tbody>\n",
              "</table>\n",
              "</div>"
            ],
            "text/plain": [
              "          MFCCs_ 1     MFCCs_ 2  ...     MFCCs_22     RecordID\n",
              "count  7195.000000  7195.000000  ...  7195.000000  7195.000000\n",
              "mean      0.989885     0.323584  ...     0.087567    25.220014\n",
              "std       0.069016     0.218653  ...     0.123442    13.214399\n",
              "min      -0.251179    -0.673025  ...    -0.379304     1.000000\n",
              "25%       1.000000     0.165945  ...     0.000533    15.000000\n",
              "50%       1.000000     0.302184  ...     0.105373    22.000000\n",
              "75%       1.000000     0.466566  ...     0.194819    37.000000\n",
              "max       1.000000     1.000000  ...     0.432207    60.000000\n",
              "\n",
              "[8 rows x 23 columns]"
            ]
          },
          "metadata": {
            "tags": []
          },
          "execution_count": 5
        }
      ]
    },
    {
      "cell_type": "code",
      "metadata": {
        "colab": {
          "base_uri": "https://localhost:8080/"
        },
        "id": "5O4q3nZ1uZiY",
        "outputId": "649b5ab7-d7c8-4d61-f150-83aa8dc8313e"
      },
      "source": [
        "df[\"Family\"].value_counts()"
      ],
      "execution_count": 6,
      "outputs": [
        {
          "output_type": "execute_result",
          "data": {
            "text/plain": [
              "Leptodactylidae    4420\n",
              "Hylidae            2165\n",
              "Dendrobatidae       542\n",
              "Bufonidae            68\n",
              "Name: Family, dtype: int64"
            ]
          },
          "metadata": {
            "tags": []
          },
          "execution_count": 6
        }
      ]
    },
    {
      "cell_type": "markdown",
      "metadata": {
        "id": "zS3K54AsuZiZ"
      },
      "source": [
        "**1. Провести интервальную оценку среднего значения признака \"MFCCs_ 2\" с помощью бутстрапа с точностью 95%.**"
      ]
    },
    {
      "cell_type": "code",
      "metadata": {
        "id": "S0REhE1YuZiZ"
      },
      "source": [
        "def bootstrap(data, n_samples):\n",
        "    ind = np.random.randint(0, len(data), (n_samples, len(data)))\n",
        "    return data[ind]\n",
        "\n",
        "def interval(stat, alpha):\n",
        "    return np.percentile(stat, [100 * alpha / 2., 100 * (1 - alpha / 2.)])"
      ],
      "execution_count": 7,
      "outputs": []
    },
    {
      "cell_type": "code",
      "metadata": {
        "colab": {
          "base_uri": "https://localhost:8080/"
        },
        "id": "Auh7mPX5uZia",
        "outputId": "768ff650-e0bb-4ec9-8a52-7f9ca0c46919"
      },
      "source": [
        "np.random.seed(17)\n",
        "\n",
        "MFC_2 = df['MFCCs_ 2'].values\n",
        "\n",
        "MFC_mean_score = [np.mean(sample) for sample in bootstrap(MFC_2, 1000)]\n",
        "print(f'mean interval: {interval(MFC_mean_score, 0.05)}')"
      ],
      "execution_count": 8,
      "outputs": [
        {
          "output_type": "stream",
          "text": [
            "mean interval: [0.31856885 0.32847859]\n"
          ],
          "name": "stdout"
        }
      ]
    },
    {
      "cell_type": "markdown",
      "metadata": {
        "id": "h7PRxBbhuZia"
      },
      "source": [
        "**2. Построить лес случайных деревьев, для определения семейства Dendrobatidae. Вывести 5 самых важных признаков. Сравнить результат с логистической регрессией.**"
      ]
    },
    {
      "cell_type": "code",
      "metadata": {
        "id": "qQshfaIEuZib"
      },
      "source": [
        "from sklearn.model_selection import train_test_split\n",
        "from sklearn.preprocessing import StandardScaler\n",
        "from sklearn.pipeline import make_pipeline\n",
        "from sklearn.ensemble import RandomForestClassifier\n",
        "from sklearn.linear_model import LogisticRegression\n",
        "from sklearn.metrics import roc_auc_score"
      ],
      "execution_count": 9,
      "outputs": []
    },
    {
      "cell_type": "code",
      "metadata": {
        "id": "54mZ0ciJuZib"
      },
      "source": [
        "X = df.drop(df.columns[-4:], axis=1)\n",
        "y = (df[\"Family\"] == 'Dendrobatidae').astype('int')\n",
        "\n",
        "X_train, X_test, y_train, y_test = train_test_split(X, y, test_size=0.3, random_state=17)"
      ],
      "execution_count": 10,
      "outputs": []
    },
    {
      "cell_type": "code",
      "metadata": {
        "id": "jyG2sFkzuZic"
      },
      "source": [
        "pipel1 = make_pipeline(StandardScaler(),\n",
        "                      RandomForestClassifier(n_estimators=50, n_jobs=-1))\n",
        "pipel2 = make_pipeline(StandardScaler(),\n",
        "                     LogisticRegression(C=100))"
      ],
      "execution_count": 11,
      "outputs": []
    },
    {
      "cell_type": "code",
      "metadata": {
        "colab": {
          "base_uri": "https://localhost:8080/"
        },
        "id": "utsQwoLnuZic",
        "outputId": "226971ea-f267-480c-cee6-78b51065c479"
      },
      "source": [
        "res = pipel1.fit(X_train, y_train)\n",
        "ROC_rf = roc_auc_score(y_test, res.predict_proba(X_test)[:, 1])\n",
        "\n",
        "res1 = pipel2.fit(X_train, y_train)\n",
        "ROC_logit = roc_auc_score(y_test, res1.predict_proba(X_test)[:, 1])\n",
        "\n",
        "print(f'rf: {ROC_rf}\\nlogit: {ROC_logit}')"
      ],
      "execution_count": 12,
      "outputs": [
        {
          "output_type": "stream",
          "text": [
            "rf: 0.9999631329087001\n",
            "logit: 0.996679125852906\n"
          ],
          "name": "stdout"
        }
      ]
    },
    {
      "cell_type": "code",
      "metadata": {
        "colab": {
          "base_uri": "https://localhost:8080/",
          "height": 731
        },
        "id": "0SorbhaquZid",
        "outputId": "aef6db26-aa2f-4653-8cff-608fb576ac0b"
      },
      "source": [
        "feature_importances = pd.DataFrame(zip(X.columns, res[1].feature_importances_),\n",
        "                                  columns=[\"Name\", \"Importance\"])\n",
        "feature_importances.sort_values(by=\"Importance\", ascending=False)"
      ],
      "execution_count": 13,
      "outputs": [
        {
          "output_type": "execute_result",
          "data": {
            "text/html": [
              "<div>\n",
              "<style scoped>\n",
              "    .dataframe tbody tr th:only-of-type {\n",
              "        vertical-align: middle;\n",
              "    }\n",
              "\n",
              "    .dataframe tbody tr th {\n",
              "        vertical-align: top;\n",
              "    }\n",
              "\n",
              "    .dataframe thead th {\n",
              "        text-align: right;\n",
              "    }\n",
              "</style>\n",
              "<table border=\"1\" class=\"dataframe\">\n",
              "  <thead>\n",
              "    <tr style=\"text-align: right;\">\n",
              "      <th></th>\n",
              "      <th>Name</th>\n",
              "      <th>Importance</th>\n",
              "    </tr>\n",
              "  </thead>\n",
              "  <tbody>\n",
              "    <tr>\n",
              "      <th>14</th>\n",
              "      <td>MFCCs_15</td>\n",
              "      <td>0.106966</td>\n",
              "    </tr>\n",
              "    <tr>\n",
              "      <th>2</th>\n",
              "      <td>MFCCs_ 3</td>\n",
              "      <td>0.104298</td>\n",
              "    </tr>\n",
              "    <tr>\n",
              "      <th>16</th>\n",
              "      <td>MFCCs_17</td>\n",
              "      <td>0.098010</td>\n",
              "    </tr>\n",
              "    <tr>\n",
              "      <th>15</th>\n",
              "      <td>MFCCs_16</td>\n",
              "      <td>0.079529</td>\n",
              "    </tr>\n",
              "    <tr>\n",
              "      <th>4</th>\n",
              "      <td>MFCCs_ 5</td>\n",
              "      <td>0.075616</td>\n",
              "    </tr>\n",
              "    <tr>\n",
              "      <th>13</th>\n",
              "      <td>MFCCs_14</td>\n",
              "      <td>0.058165</td>\n",
              "    </tr>\n",
              "    <tr>\n",
              "      <th>1</th>\n",
              "      <td>MFCCs_ 2</td>\n",
              "      <td>0.048401</td>\n",
              "    </tr>\n",
              "    <tr>\n",
              "      <th>6</th>\n",
              "      <td>MFCCs_ 7</td>\n",
              "      <td>0.041525</td>\n",
              "    </tr>\n",
              "    <tr>\n",
              "      <th>20</th>\n",
              "      <td>MFCCs_21</td>\n",
              "      <td>0.039178</td>\n",
              "    </tr>\n",
              "    <tr>\n",
              "      <th>9</th>\n",
              "      <td>MFCCs_10</td>\n",
              "      <td>0.037002</td>\n",
              "    </tr>\n",
              "    <tr>\n",
              "      <th>8</th>\n",
              "      <td>MFCCs_ 9</td>\n",
              "      <td>0.036279</td>\n",
              "    </tr>\n",
              "    <tr>\n",
              "      <th>18</th>\n",
              "      <td>MFCCs_19</td>\n",
              "      <td>0.036056</td>\n",
              "    </tr>\n",
              "    <tr>\n",
              "      <th>11</th>\n",
              "      <td>MFCCs_12</td>\n",
              "      <td>0.035440</td>\n",
              "    </tr>\n",
              "    <tr>\n",
              "      <th>19</th>\n",
              "      <td>MFCCs_20</td>\n",
              "      <td>0.035250</td>\n",
              "    </tr>\n",
              "    <tr>\n",
              "      <th>17</th>\n",
              "      <td>MFCCs_18</td>\n",
              "      <td>0.033135</td>\n",
              "    </tr>\n",
              "    <tr>\n",
              "      <th>12</th>\n",
              "      <td>MFCCs_13</td>\n",
              "      <td>0.030848</td>\n",
              "    </tr>\n",
              "    <tr>\n",
              "      <th>3</th>\n",
              "      <td>MFCCs_ 4</td>\n",
              "      <td>0.024942</td>\n",
              "    </tr>\n",
              "    <tr>\n",
              "      <th>10</th>\n",
              "      <td>MFCCs_11</td>\n",
              "      <td>0.024039</td>\n",
              "    </tr>\n",
              "    <tr>\n",
              "      <th>21</th>\n",
              "      <td>MFCCs_22</td>\n",
              "      <td>0.022498</td>\n",
              "    </tr>\n",
              "    <tr>\n",
              "      <th>5</th>\n",
              "      <td>MFCCs_ 6</td>\n",
              "      <td>0.017916</td>\n",
              "    </tr>\n",
              "    <tr>\n",
              "      <th>7</th>\n",
              "      <td>MFCCs_ 8</td>\n",
              "      <td>0.013062</td>\n",
              "    </tr>\n",
              "    <tr>\n",
              "      <th>0</th>\n",
              "      <td>MFCCs_ 1</td>\n",
              "      <td>0.001848</td>\n",
              "    </tr>\n",
              "  </tbody>\n",
              "</table>\n",
              "</div>"
            ],
            "text/plain": [
              "        Name  Importance\n",
              "14  MFCCs_15    0.106966\n",
              "2   MFCCs_ 3    0.104298\n",
              "16  MFCCs_17    0.098010\n",
              "15  MFCCs_16    0.079529\n",
              "4   MFCCs_ 5    0.075616\n",
              "13  MFCCs_14    0.058165\n",
              "1   MFCCs_ 2    0.048401\n",
              "6   MFCCs_ 7    0.041525\n",
              "20  MFCCs_21    0.039178\n",
              "9   MFCCs_10    0.037002\n",
              "8   MFCCs_ 9    0.036279\n",
              "18  MFCCs_19    0.036056\n",
              "11  MFCCs_12    0.035440\n",
              "19  MFCCs_20    0.035250\n",
              "17  MFCCs_18    0.033135\n",
              "12  MFCCs_13    0.030848\n",
              "3   MFCCs_ 4    0.024942\n",
              "10  MFCCs_11    0.024039\n",
              "21  MFCCs_22    0.022498\n",
              "5   MFCCs_ 6    0.017916\n",
              "7   MFCCs_ 8    0.013062\n",
              "0   MFCCs_ 1    0.001848"
            ]
          },
          "metadata": {
            "tags": []
          },
          "execution_count": 13
        }
      ]
    },
    {
      "cell_type": "markdown",
      "metadata": {
        "id": "5QVY81sVuZie"
      },
      "source": [
        "**3. Использовать бэггинг для обучения 100 логистических регрессий для определения семейства Dendrobatidae. Использовать RandomizedSearchCV для того, чтобы не перебирать все возможные комбинации параметров. Выбрать для RandomizedSearchCV - 20 итераций.**"
      ]
    },
    {
      "cell_type": "code",
      "metadata": {
        "colab": {
          "base_uri": "https://localhost:8080/"
        },
        "id": "RuHD1mwyuZie",
        "outputId": "e78f7d04-2a6c-499f-9e13-d8cf9ad500f9"
      },
      "source": [
        "from sklearn.ensemble import BaggingClassifier\n",
        "from sklearn.linear_model import LogisticRegression\n",
        "from sklearn.model_selection import RandomizedSearchCV\n",
        "\n",
        "parameters = {\n",
        "    'max_features': [5, 10, 15],    # кол-во случайно отбираемых признаков\n",
        "    'max_samples': [0.5, 0.7, 0.9], # процент выборки для обучения \n",
        "    'base_estimator__C': np.logspace(-4, 5, 10), # регуляризация\n",
        "}\n",
        "\n",
        "pipel3 = make_pipeline(StandardScaler(),\n",
        "                       RandomizedSearchCV(BaggingClassifier(LogisticRegression(), n_estimators=100, n_jobs=-1), parameters, n_iter=20, n_jobs=-1))\n",
        "\n",
        "res = pipel3.fit(X_train, y_train)\n",
        "print('ROC:', roc_auc_score(y_test, res.predict_proba(X_test)[:, 1]))"
      ],
      "execution_count": 28,
      "outputs": [
        {
          "output_type": "stream",
          "text": [
            "ROC: 0.9963529938914066\n"
          ],
          "name": "stdout"
        }
      ]
    },
    {
      "cell_type": "markdown",
      "metadata": {
        "id": "xZSCu9s0uZif"
      },
      "source": [
        "**4. Организовать стекинг моделей (любой из вариантов) для определения семейства Dendrobatidae. Для этого выбрать базовые модели и выбрать мета-модель (самостоятельно). Определить постепенным добавлением, какие модели улучшают результат классификации, какие ухудшают.**"
      ]
    },
    {
      "cell_type": "code",
      "metadata": {
        "colab": {
          "base_uri": "https://localhost:8080/"
        },
        "id": "zMgj1b4OuZig",
        "outputId": "98518a8a-0f06-44c1-b08d-4c9b33ebf2ff"
      },
      "source": [
        "from sklearn.ensemble import StackingClassifier\n",
        "from sklearn.svm import LinearSVC\n",
        "from sklearn.neighbors import KNeighborsClassifier\n",
        "\n",
        "base_models = [('random_forest',\n",
        "               RandomForestClassifier(n_estimators=50)),\n",
        "              ('knn', KNeighborsClassifier(n_neighbors=11)),\n",
        "               ('svr', LinearSVC(random_state=42))]\n",
        "\n",
        "meta_model = LogisticRegression(C=100)\n",
        "stacking_model = StackingClassifier(estimators=base_models,\n",
        "                                    final_estimator=meta_model)\n",
        "\n",
        "stacking_model.fit(X_train, y_train)\n",
        "print('ROC:', roc_auc_score(y_test, stacking_model.predict_proba(X_test)[:, 1]))"
      ],
      "execution_count": 27,
      "outputs": [
        {
          "output_type": "stream",
          "text": [
            "ROC: 1.0\n"
          ],
          "name": "stdout"
        }
      ]
    }
  ]
}